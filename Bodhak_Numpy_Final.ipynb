{
  "cells": [
    {
      "cell_type": "markdown",
      "metadata": {
        "id": "view-in-github",
        "colab_type": "text"
      },
      "source": [
        "<a href=\"https://colab.research.google.com/github/priyanshigarg17/datascience/blob/main/Bodhak_Numpy_Final.ipynb\" target=\"_parent\"><img src=\"https://colab.research.google.com/assets/colab-badge.svg\" alt=\"Open In Colab\"/></a>"
      ]
    },
    {
      "cell_type": "markdown",
      "metadata": {
        "id": "Q-T2uiVGweFn"
      },
      "source": [
        "# NUMPY\n",
        "\n",
        "import numpy as np\n",
        "\n",
        "NUmbers only: arrays\n",
        "\n",
        "list = [1,2,3,4,5,6] converted into array like structure\n",
        "in arrays, rows and columns\n",
        "\n",
        "array = 1,2,3,4,5,6\n",
        "\n",
        "Dataframes,consists of row as well as column labels (names)\n",
        "\n",
        "Arrays of nunmbers, doesnt consists of row or column labels (names)"
      ]
    },
    {
      "cell_type": "code",
      "source": [
        "#list of numbers\n",
        "a = [1,2,3,4,5]\n",
        "type(a)"
      ],
      "metadata": {
        "id": "EZmlGddbToqm"
      },
      "execution_count": null,
      "outputs": []
    },
    {
      "cell_type": "markdown",
      "source": [
        "Arrays: 1 dimensional (single row array)\n",
        "\n",
        "If number of rows > 1, 2 D array"
      ],
      "metadata": {
        "id": "-CEugQxiUF7T"
      }
    },
    {
      "cell_type": "code",
      "execution_count": null,
      "metadata": {
        "id": "3lJFqdE4weFs",
        "colab": {
          "base_uri": "https://localhost:8080/"
        },
        "outputId": "e1099266-b48d-4396-9ed2-782b565a9209"
      },
      "outputs": [
        {
          "output_type": "execute_result",
          "data": {
            "text/plain": [
              "array([1, 2, 3, 4, 5])"
            ]
          },
          "metadata": {},
          "execution_count": 1
        }
      ],
      "source": [
        "import numpy as np\n",
        "#np is the context manager for numpy\n",
        "a = np.array([1,2,3,4,5])\n",
        "a"
      ]
    },
    {
      "cell_type": "code",
      "execution_count": null,
      "metadata": {
        "id": "EyVl04bfweFu",
        "colab": {
          "base_uri": "https://localhost:8080/"
        },
        "outputId": "3d0eb123-03f1-46e0-f0c7-5707ed8addca"
      },
      "outputs": [
        {
          "output_type": "execute_result",
          "data": {
            "text/plain": [
              "1"
            ]
          },
          "metadata": {},
          "execution_count": 3
        }
      ],
      "source": [
        "type(a)\n",
        "a.ndim"
      ]
    },
    {
      "cell_type": "code",
      "execution_count": null,
      "metadata": {
        "id": "EfRNqqVeweFv",
        "colab": {
          "base_uri": "https://localhost:8080/"
        },
        "outputId": "4e8ef0a7-3171-4c8d-eef7-fa9ad9cc7b04"
      },
      "outputs": [
        {
          "output_type": "stream",
          "name": "stdout",
          "text": [
            "[[ 1  2  3]\n",
            " [ 4  5  6]\n",
            " [ 7  8  9]\n",
            " [10 11 12]]\n"
          ]
        }
      ],
      "source": [
        "a = np.array([[1,2,3],[4,5,6],[7,8,9],[10,11,12]]) #list of lists\n",
        "print(a)\n",
        "#array with 4 rows and 4 columns"
      ]
    },
    {
      "cell_type": "code",
      "execution_count": null,
      "metadata": {
        "id": "83zsi3upweFv",
        "colab": {
          "base_uri": "https://localhost:8080/"
        },
        "outputId": "02f171fe-975f-480b-cdf9-ff9fcf7f662c"
      },
      "outputs": [
        {
          "output_type": "stream",
          "name": "stdout",
          "text": [
            "[[ 1  2  3  4]\n",
            " [ 5  6  7  8]\n",
            " [ 9 10 11 12]\n",
            " [13 14 15 16]]\n"
          ]
        },
        {
          "output_type": "execute_result",
          "data": {
            "text/plain": [
              "2"
            ]
          },
          "metadata": {},
          "execution_count": 8
        }
      ],
      "source": [
        "a = np.array([[1,2,3,4], [5,6,7,8], [9,10,11,12], [13,14,15,16]])\n",
        "print(a)\n",
        "#3 rows and 4 columns\n",
        "a.ndim"
      ]
    },
    {
      "cell_type": "code",
      "execution_count": null,
      "metadata": {
        "scrolled": true,
        "id": "T2cq2W3MweFw",
        "colab": {
          "base_uri": "https://localhost:8080/"
        },
        "outputId": "b3c4c610-9233-4feb-806c-d83f51e9ce47"
      },
      "outputs": [
        {
          "output_type": "execute_result",
          "data": {
            "text/plain": [
              "array([0., 0., 0.])"
            ]
          },
          "metadata": {},
          "execution_count": 11
        }
      ],
      "source": [
        "#create an array of zeros\n",
        "np.zeros(3)"
      ]
    },
    {
      "cell_type": "code",
      "execution_count": null,
      "metadata": {
        "scrolled": false,
        "id": "ScDnsrS6weFw",
        "colab": {
          "base_uri": "https://localhost:8080/"
        },
        "outputId": "28b9a5ab-1724-4f40-93ed-da1db42ffb8e"
      },
      "outputs": [
        {
          "output_type": "execute_result",
          "data": {
            "text/plain": [
              "array([[1., 1.],\n",
              "       [1., 1.]])"
            ]
          },
          "metadata": {},
          "execution_count": 12
        }
      ],
      "source": [
        "np.ones([2,2])\n",
        "#array of ones"
      ]
    },
    {
      "cell_type": "code",
      "source": [
        "list(range(10,25))"
      ],
      "metadata": {
        "colab": {
          "base_uri": "https://localhost:8080/"
        },
        "id": "YA12EKexvkup",
        "outputId": "69c39de9-3295-444c-c0e0-e5d6a802d31e"
      },
      "execution_count": null,
      "outputs": [
        {
          "output_type": "execute_result",
          "data": {
            "text/plain": [
              "[10, 11, 12, 13, 14, 15, 16, 17, 18, 19, 20, 21, 22, 23, 24]"
            ]
          },
          "metadata": {},
          "execution_count": 14
        }
      ]
    },
    {
      "cell_type": "code",
      "source": [
        "list(range(5,20,2)) #starting point will be 5\n",
        "#python, end index positions are always exclusive"
      ],
      "metadata": {
        "id": "dOSKFIaeVz9x",
        "colab": {
          "base_uri": "https://localhost:8080/"
        },
        "outputId": "d049e830-2e7f-4e77-ce75-c97152a1e44e"
      },
      "execution_count": null,
      "outputs": [
        {
          "output_type": "execute_result",
          "data": {
            "text/plain": [
              "[5, 7, 9, 11, 13, 15, 17, 19]"
            ]
          },
          "metadata": {},
          "execution_count": 15
        }
      ]
    },
    {
      "cell_type": "code",
      "execution_count": null,
      "metadata": {
        "id": "sj5d5Sx8weFx",
        "colab": {
          "base_uri": "https://localhost:8080/"
        },
        "outputId": "bbf7e09c-8fbb-4663-fc72-07ecdc1ce837"
      },
      "outputs": [
        {
          "output_type": "execute_result",
          "data": {
            "text/plain": [
              "array([0, 1, 2, 3, 4, 5, 6, 7, 8, 9])"
            ]
          },
          "metadata": {},
          "execution_count": 16
        }
      ],
      "source": [
        "#arange is similar to range method of python\n",
        "np.arange(10)\n",
        "#number list from 0 in array format"
      ]
    },
    {
      "cell_type": "code",
      "execution_count": null,
      "metadata": {
        "id": "oHV_SEryweFy",
        "colab": {
          "base_uri": "https://localhost:8080/"
        },
        "outputId": "9aa21c07-e97e-4c30-8a01-6f6c15c2df9b"
      },
      "outputs": [
        {
          "output_type": "execute_result",
          "data": {
            "text/plain": [
              "array([ 5,  6,  7,  8,  9, 10, 11, 12, 13, 14, 15])"
            ]
          },
          "metadata": {},
          "execution_count": 17
        }
      ],
      "source": [
        "np.arange(5,16) #start, end point\n",
        "#array of evenly spaced numbers"
      ]
    },
    {
      "cell_type": "code",
      "execution_count": null,
      "metadata": {
        "id": "unm6V2LKweFy",
        "colab": {
          "base_uri": "https://localhost:8080/"
        },
        "outputId": "72cbb332-7406-43ad-a56d-3a69881a894d"
      },
      "outputs": [
        {
          "output_type": "execute_result",
          "data": {
            "text/plain": [
              "array([ 2,  5,  8, 11, 14])"
            ]
          },
          "metadata": {},
          "execution_count": 18
        }
      ],
      "source": [
        "np.arange(2,16,3) #start, end\n",
        "#step or jump parameter"
      ]
    },
    {
      "cell_type": "code",
      "execution_count": null,
      "metadata": {
        "id": "IqDiivtbweFz",
        "colab": {
          "base_uri": "https://localhost:8080/"
        },
        "outputId": "dee4ebe0-8927-4020-f9cc-0069e0b46ba1"
      },
      "outputs": [
        {
          "output_type": "execute_result",
          "data": {
            "text/plain": [
              "array([ 5.,  9., 13., 17., 21.])"
            ]
          },
          "metadata": {},
          "execution_count": 20
        }
      ],
      "source": [
        "#generate linear data\n",
        "np.linspace(5, 21,5) #start, end, number of values"
      ]
    },
    {
      "cell_type": "code",
      "execution_count": null,
      "metadata": {
        "id": "fOtlluhPweFz",
        "colab": {
          "base_uri": "https://localhost:8080/"
        },
        "outputId": "f7b14179-fc3f-4cba-bad8-82f6202ea04c"
      },
      "outputs": [
        {
          "output_type": "stream",
          "name": "stdout",
          "text": [
            "[1 2 3 4]\n",
            "\n",
            "[5 6 7 8]\n"
          ]
        },
        {
          "output_type": "execute_result",
          "data": {
            "text/plain": [
              "array([1, 2, 3, 4, 5, 6, 7, 8])"
            ]
          },
          "metadata": {},
          "execution_count": 22
        }
      ],
      "source": [
        "#concatenation #joining\n",
        "a = np.array([1,2,3,4])\n",
        "b = np.array([5,6,7,8])\n",
        "\n",
        "print(a)\n",
        "print()\n",
        "print(b)\n",
        "\n",
        "np.concatenate((a, b))"
      ]
    },
    {
      "cell_type": "code",
      "source": [
        "y = np.array([[5,6]])\n",
        "y.ndim"
      ],
      "metadata": {
        "id": "Kuj5YLo6cqKQ"
      },
      "execution_count": null,
      "outputs": []
    },
    {
      "cell_type": "code",
      "source": [
        "x = '3'\n",
        "type(x)"
      ],
      "metadata": {
        "colab": {
          "base_uri": "https://localhost:8080/"
        },
        "id": "E19OBHV8zvB7",
        "outputId": "e2e1890c-d18f-4c34-9a5e-91d9e59b5ccb"
      },
      "execution_count": null,
      "outputs": [
        {
          "output_type": "execute_result",
          "data": {
            "text/plain": [
              "str"
            ]
          },
          "metadata": {},
          "execution_count": 26
        }
      ]
    },
    {
      "cell_type": "code",
      "execution_count": null,
      "metadata": {
        "id": "d-eJWYwhweF0",
        "colab": {
          "base_uri": "https://localhost:8080/"
        },
        "outputId": "18c8ac3b-90fd-4faf-822c-1ea260bc4d77"
      },
      "outputs": [
        {
          "output_type": "stream",
          "name": "stdout",
          "text": [
            "[[1 2]\n",
            " [3 4]\n",
            " [7 8]]\n",
            "\n",
            "[[ 5  6]\n",
            " [ 9 10]]\n"
          ]
        },
        {
          "output_type": "execute_result",
          "data": {
            "text/plain": [
              "array([[ 1,  2],\n",
              "       [ 3,  4],\n",
              "       [ 7,  8],\n",
              "       [ 5,  6],\n",
              "       [ 9, 10]])"
            ]
          },
          "metadata": {},
          "execution_count": 28
        }
      ],
      "source": [
        "x = np.array([[1,2], [3,4], [7,8]])#array 0f 2 rows and 2 columns\n",
        "\n",
        "y = np.array([[5,6],[9,10]])\n",
        "\n",
        "print(x)\n",
        "print()\n",
        "print(y)\n",
        "\n",
        "np.concatenate((x, y))"
      ]
    },
    {
      "cell_type": "code",
      "execution_count": null,
      "metadata": {
        "id": "drchGCUzweF0",
        "colab": {
          "base_uri": "https://localhost:8080/"
        },
        "outputId": "eb378d78-ed27-4faa-e0c2-73c32c30aa02"
      },
      "outputs": [
        {
          "output_type": "execute_result",
          "data": {
            "text/plain": [
              "array([[ 1,  2],\n",
              "       [ 3,  4],\n",
              "       [ 7,  8],\n",
              "       [ 5,  6],\n",
              "       [ 9, 10]])"
            ]
          },
          "metadata": {},
          "execution_count": 29
        }
      ],
      "source": [
        "np.concatenate((x, y), axis=0)\n",
        "#axis o is vertical axis"
      ]
    },
    {
      "cell_type": "code",
      "execution_count": null,
      "metadata": {
        "id": "dfKhPC1sweF0",
        "colab": {
          "base_uri": "https://localhost:8080/",
          "height": 176
        },
        "outputId": "cfe96dc6-57d1-4a33-cde3-2c2b74d1d8cc"
      },
      "outputs": [
        {
          "output_type": "error",
          "ename": "ValueError",
          "evalue": "all the input array dimensions except for the concatenation axis must match exactly, but along dimension 0, the array at index 0 has size 3 and the array at index 1 has size 2",
          "traceback": [
            "\u001b[0;31m---------------------------------------------------------------------------\u001b[0m",
            "\u001b[0;31mValueError\u001b[0m                                Traceback (most recent call last)",
            "\u001b[0;32m/tmp/ipython-input-30-4227807512.py\u001b[0m in \u001b[0;36m<cell line: 0>\u001b[0;34m()\u001b[0m\n\u001b[0;32m----> 1\u001b[0;31m \u001b[0mnp\u001b[0m\u001b[0;34m.\u001b[0m\u001b[0mconcatenate\u001b[0m\u001b[0;34m(\u001b[0m\u001b[0;34m(\u001b[0m\u001b[0mx\u001b[0m\u001b[0;34m,\u001b[0m\u001b[0my\u001b[0m\u001b[0;34m)\u001b[0m\u001b[0;34m,\u001b[0m \u001b[0maxis\u001b[0m\u001b[0;34m=\u001b[0m\u001b[0;36m1\u001b[0m\u001b[0;34m)\u001b[0m\u001b[0;34m\u001b[0m\u001b[0;34m\u001b[0m\u001b[0m\n\u001b[0m\u001b[1;32m      2\u001b[0m \u001b[0;31m#axis 1 is horizontal axis\u001b[0m\u001b[0;34m\u001b[0m\u001b[0;34m\u001b[0m\u001b[0m\n",
            "\u001b[0;31mValueError\u001b[0m: all the input array dimensions except for the concatenation axis must match exactly, but along dimension 0, the array at index 0 has size 3 and the array at index 1 has size 2"
          ]
        }
      ],
      "source": [
        "np.concatenate((x,y), axis=1)\n",
        "#axis 1 is horizontal axis"
      ]
    },
    {
      "cell_type": "code",
      "source": [
        "x = np.array([[1,2], [3,4], [7,8]])#array 0f 2 rows and 2 columns\n",
        "\n",
        "y = np.array([[5,6],[9,10],[11,12]])\n",
        "\n",
        "print(x)\n",
        "print()\n",
        "print(y)\n",
        "\n",
        "np.concatenate((x, y), axis=1)"
      ],
      "metadata": {
        "colab": {
          "base_uri": "https://localhost:8080/"
        },
        "id": "mbNDep3s2q4e",
        "outputId": "b636bb72-9108-444b-8b75-7403cd52cc03"
      },
      "execution_count": null,
      "outputs": [
        {
          "output_type": "stream",
          "name": "stdout",
          "text": [
            "[[1 2]\n",
            " [3 4]\n",
            " [7 8]]\n",
            "\n",
            "[[ 5  6]\n",
            " [ 9 10]\n",
            " [11 12]]\n"
          ]
        },
        {
          "output_type": "execute_result",
          "data": {
            "text/plain": [
              "array([[ 1,  2,  5,  6],\n",
              "       [ 3,  4,  9, 10],\n",
              "       [ 7,  8, 11, 12]])"
            ]
          },
          "metadata": {},
          "execution_count": 31
        }
      ]
    },
    {
      "cell_type": "code",
      "source": [
        "x = np.array([[1,2],[3,4]])\n",
        "y = np.array([[5],[6]])\n",
        "print(x)\n",
        "print()\n",
        "print(y)\n",
        "np.concatenate((x,y), axis=1)"
      ],
      "metadata": {
        "id": "LFfdFU6oe1l5",
        "colab": {
          "base_uri": "https://localhost:8080/"
        },
        "outputId": "888eac6d-c0c3-48df-d2e9-81fed50889a0"
      },
      "execution_count": null,
      "outputs": [
        {
          "output_type": "stream",
          "name": "stdout",
          "text": [
            "[[1 2]\n",
            " [3 4]]\n",
            "\n",
            "[[5]\n",
            " [6]]\n"
          ]
        },
        {
          "output_type": "execute_result",
          "data": {
            "text/plain": [
              "array([[1, 2, 5],\n",
              "       [3, 4, 6]])"
            ]
          },
          "metadata": {},
          "execution_count": 33
        }
      ]
    },
    {
      "cell_type": "code",
      "execution_count": null,
      "metadata": {
        "id": "lqKXsEM5weF1"
      },
      "outputs": [],
      "source": [
        "x = np.array([[1,2], [3,4]])\n",
        "\n",
        "y = np.array([[5,6], [7,8]])\n",
        "\n",
        "print(x)\n",
        "print()\n",
        "print(y)\n",
        "\n",
        "np.concatenate((x, y), axis=1)\n",
        "#number of coulmsn will increase, extra columns"
      ]
    },
    {
      "cell_type": "code",
      "execution_count": null,
      "metadata": {
        "id": "TC16n8ziweF1"
      },
      "outputs": [],
      "source": [
        "x = np.array([[1,2], [3,4]])\n",
        "\n",
        "y = np.array([[5,6], [7,8]])\n",
        "\n",
        "print(x)\n",
        "print(y)\n",
        "\n",
        "np.concatenate((x, y), axis=0)\n",
        "#number of rows will increase, add more rows"
      ]
    },
    {
      "cell_type": "code",
      "execution_count": null,
      "metadata": {
        "id": "QnZc6fCrweF1",
        "colab": {
          "base_uri": "https://localhost:8080/"
        },
        "outputId": "e2e7fc48-a0e7-4001-f181-712715475401"
      },
      "outputs": [
        {
          "output_type": "stream",
          "name": "stdout",
          "text": [
            "[array([1, 2]), array([3, 4]), array([5, 6])]\n"
          ]
        }
      ],
      "source": [
        "import numpy as np\n",
        "#splitting\n",
        "arr = np.array([1,2,3,4,5,6])\n",
        "newarr = np.array_split(arr, 3)\n",
        "print(newarr)"
      ]
    },
    {
      "cell_type": "code",
      "execution_count": null,
      "metadata": {
        "id": "G_MSPGEsweF1",
        "colab": {
          "base_uri": "https://localhost:8080/"
        },
        "outputId": "587d7c8d-23b8-4ecc-86c1-baf784a51109"
      },
      "outputs": [
        {
          "output_type": "stream",
          "name": "stdout",
          "text": [
            "[array([1, 2]), array([3, 4]), array([5]), array([6])]\n"
          ]
        }
      ],
      "source": [
        "arr = np.array([1,2,3,4,5,6])\n",
        "newarr = np.array_split(arr, 4)\n",
        "print(newarr)\n",
        "#split command"
      ]
    },
    {
      "cell_type": "code",
      "source": [
        "arr = np.array([1,2,3,4,5,6])\n",
        "newarr = np.array_split(arr, 10)\n",
        "print(newarr)\n",
        "#split command"
      ],
      "metadata": {
        "id": "ZHjWWJpLOQ1I",
        "colab": {
          "base_uri": "https://localhost:8080/"
        },
        "outputId": "4a166dc5-f3de-4add-f714-101ddf97f42f"
      },
      "execution_count": null,
      "outputs": [
        {
          "output_type": "stream",
          "name": "stdout",
          "text": [
            "[array([1]), array([2]), array([3]), array([4]), array([5]), array([6]), array([], dtype=int64), array([], dtype=int64), array([], dtype=int64), array([], dtype=int64)]\n"
          ]
        }
      ]
    },
    {
      "cell_type": "code",
      "execution_count": null,
      "metadata": {
        "id": "9EXXRciJweF2",
        "colab": {
          "base_uri": "https://localhost:8080/"
        },
        "outputId": "7ec9670a-f84b-431f-870b-91b4450c07d3"
      },
      "outputs": [
        {
          "output_type": "stream",
          "name": "stdout",
          "text": [
            "[array([1, 2]), array([3, 4]), array([5, 6])]\n",
            "[1 2]\n",
            "[3 4]\n",
            "[5 6]\n"
          ]
        }
      ],
      "source": [
        "arr = np.array([1,2,3,4,5,6])\n",
        "newarr = np.array_split(arr, 3)\n",
        "print(newarr)\n",
        "\n",
        "print(newarr[0])\n",
        "print(newarr[1])\n",
        "print(newarr[2])"
      ]
    },
    {
      "cell_type": "code",
      "execution_count": null,
      "metadata": {
        "id": "EY49PTpEweF2",
        "colab": {
          "base_uri": "https://localhost:8080/"
        },
        "outputId": "9aad0b55-3681-4354-98a2-94ce6b84d55b"
      },
      "outputs": [
        {
          "output_type": "execute_result",
          "data": {
            "text/plain": [
              "array([[ 1,  2],\n",
              "       [ 3,  4],\n",
              "       [ 5,  6],\n",
              "       [ 7,  8],\n",
              "       [ 9, 10],\n",
              "       [11, 12]])"
            ]
          },
          "metadata": {},
          "execution_count": 5
        }
      ],
      "source": [
        "arr = np.array([[1,2], [3,4],[5,6], [7,8], [9,10], [11,12]])\n",
        "arr\n",
        "#2 D array with 6 x 2"
      ]
    },
    {
      "cell_type": "code",
      "source": [
        "newarr = np.array_split(arr, 3)\n",
        "print(newarr)"
      ],
      "metadata": {
        "id": "2l3KU0XkPPUw",
        "colab": {
          "base_uri": "https://localhost:8080/"
        },
        "outputId": "3d370492-386a-4eef-e4e6-dd21a974cba3"
      },
      "execution_count": null,
      "outputs": [
        {
          "output_type": "stream",
          "name": "stdout",
          "text": [
            "[array([[1, 2],\n",
            "       [3, 4]]), array([[5, 6],\n",
            "       [7, 8]]), array([[ 9, 10],\n",
            "       [11, 12]])]\n"
          ]
        }
      ]
    },
    {
      "cell_type": "code",
      "source": [
        "print(newarr[0])"
      ],
      "metadata": {
        "id": "DTdX35qN1eDM",
        "colab": {
          "base_uri": "https://localhost:8080/"
        },
        "outputId": "12ea786c-2dee-4499-8249-d324a5c80203"
      },
      "execution_count": null,
      "outputs": [
        {
          "output_type": "stream",
          "name": "stdout",
          "text": [
            "[[1 2]\n",
            " [3 4]]\n"
          ]
        }
      ]
    },
    {
      "cell_type": "code",
      "execution_count": null,
      "metadata": {
        "id": "Hv15kMDuweF2",
        "colab": {
          "base_uri": "https://localhost:8080/"
        },
        "outputId": "c91e31ec-3078-4ec4-8246-9204ac05f5fd"
      },
      "outputs": [
        {
          "output_type": "execute_result",
          "data": {
            "text/plain": [
              "array([[ 1,  2,  3],\n",
              "       [ 4,  5,  6],\n",
              "       [ 7,  8,  9],\n",
              "       [10, 11, 12],\n",
              "       [13, 14, 15],\n",
              "       [16, 17, 18]])"
            ]
          },
          "metadata": {},
          "execution_count": 10
        }
      ],
      "source": [
        "#split a 2darray into three 2d arrays along rows/accross columns\n",
        "arr = np.array([[1,2,3], [4,5,6], [7,8,9], [10,11,12], [13,14,15], [16,17,18]])\n",
        "arr"
      ]
    },
    {
      "cell_type": "code",
      "execution_count": null,
      "metadata": {
        "id": "DEiwl409weF3",
        "colab": {
          "base_uri": "https://localhost:8080/"
        },
        "outputId": "b1ac6cfc-de75-46c2-e3cc-e5e451f0a96b"
      },
      "outputs": [
        {
          "output_type": "stream",
          "name": "stdout",
          "text": [
            "[array([[ 1],\n",
            "       [ 4],\n",
            "       [ 7],\n",
            "       [10],\n",
            "       [13],\n",
            "       [16]]), array([[ 2],\n",
            "       [ 5],\n",
            "       [ 8],\n",
            "       [11],\n",
            "       [14],\n",
            "       [17]]), array([[ 3],\n",
            "       [ 6],\n",
            "       [ 9],\n",
            "       [12],\n",
            "       [15],\n",
            "       [18]])]\n"
          ]
        }
      ],
      "source": [
        "#column wise splitting\n",
        "newarr = np.array_split(arr, 3, axis=1)\n",
        "print(newarr)"
      ]
    },
    {
      "cell_type": "code",
      "execution_count": null,
      "metadata": {
        "id": "y_Wi5paZweF3",
        "colab": {
          "base_uri": "https://localhost:8080/"
        },
        "outputId": "e539a54e-14ba-4839-c7eb-c0fad3e4fa76"
      },
      "outputs": [
        {
          "output_type": "stream",
          "name": "stdout",
          "text": [
            "[array([[1, 2, 3],\n",
            "       [4, 5, 6]]), array([[ 7,  8,  9],\n",
            "       [10, 11, 12]]), array([[13, 14, 15],\n",
            "       [16, 17, 18]])]\n"
          ]
        }
      ],
      "source": [
        "#row wise splitting\n",
        "newarr = np.array_split(arr, 3, axis=0)\n",
        "print(newarr)"
      ]
    },
    {
      "cell_type": "code",
      "execution_count": null,
      "metadata": {
        "id": "fjYDhOsoweF3"
      },
      "outputs": [],
      "source": [
        "print(newarr[0])"
      ]
    },
    {
      "cell_type": "code",
      "execution_count": null,
      "metadata": {
        "id": "h3hibjtSweF3"
      },
      "outputs": [],
      "source": [
        "print(newarr[1])"
      ]
    },
    {
      "cell_type": "code",
      "source": [
        "#split a 2darray into three 2d arrays along rows/accross columns\n",
        "arr = np.array([[1,2,3], [4,5,6], [7,8,9], [10,11,12], [13,14,15], [16,17,18]])\n",
        "arr"
      ],
      "metadata": {
        "id": "COOR2nqeGHgk",
        "colab": {
          "base_uri": "https://localhost:8080/"
        },
        "outputId": "0f2f5c8f-7d01-46d0-df0e-d7158756584f"
      },
      "execution_count": null,
      "outputs": [
        {
          "output_type": "execute_result",
          "data": {
            "text/plain": [
              "array([[ 1,  2,  3],\n",
              "       [ 4,  5,  6],\n",
              "       [ 7,  8,  9],\n",
              "       [10, 11, 12],\n",
              "       [13, 14, 15],\n",
              "       [16, 17, 18]])"
            ]
          },
          "metadata": {},
          "execution_count": 13
        }
      ]
    },
    {
      "cell_type": "code",
      "source": [
        "newar = np.split(arr, 6)\n",
        "print(newar)"
      ],
      "metadata": {
        "id": "PZk7KlS9GCwa",
        "colab": {
          "base_uri": "https://localhost:8080/"
        },
        "outputId": "95426108-0140-4400-ee41-0a4744f3a096"
      },
      "execution_count": null,
      "outputs": [
        {
          "output_type": "stream",
          "name": "stdout",
          "text": [
            "[array([[1, 2, 3]]), array([[4, 5, 6]]), array([[7, 8, 9]]), array([[10, 11, 12]]), array([[13, 14, 15]]), array([[16, 17, 18]])]\n"
          ]
        }
      ]
    },
    {
      "cell_type": "code",
      "execution_count": null,
      "metadata": {
        "id": "-v8oKuK9weF3",
        "colab": {
          "base_uri": "https://localhost:8080/"
        },
        "outputId": "503e7510-aa40-4c29-fe01-d2da2ca2ae24"
      },
      "outputs": [
        {
          "output_type": "execute_result",
          "data": {
            "text/plain": [
              "array([1, 2, 3, 4, 5, 6, 7, 8])"
            ]
          },
          "metadata": {},
          "execution_count": 16
        }
      ],
      "source": [
        "#sorting of an array\n",
        "arr = np.array([2,1,5,3,7,4,6,8])\n",
        "ar = np.sort(arr)\n",
        "#ascending order\n",
        "ar"
      ]
    },
    {
      "cell_type": "code",
      "source": [
        "ar[::-1]#start,end,step"
      ],
      "metadata": {
        "id": "txCqVjGtROc8",
        "colab": {
          "base_uri": "https://localhost:8080/"
        },
        "outputId": "a8eb0766-fadc-48fb-b00c-7ebd95079837"
      },
      "execution_count": null,
      "outputs": [
        {
          "output_type": "execute_result",
          "data": {
            "text/plain": [
              "array([8, 7, 6, 5, 4, 3, 2, 1])"
            ]
          },
          "metadata": {},
          "execution_count": 20
        }
      ]
    },
    {
      "cell_type": "code",
      "execution_count": null,
      "metadata": {
        "id": "-uv9pwYsweF4",
        "colab": {
          "base_uri": "https://localhost:8080/"
        },
        "outputId": "5a89b07f-1292-4c56-e999-619ca25c9402"
      },
      "outputs": [
        {
          "output_type": "stream",
          "name": "stdout",
          "text": [
            "(array([3, 5, 6]),)\n"
          ]
        }
      ],
      "source": [
        "#where #returning the positions (index values)\n",
        "arr = np.array([1,2,3,4,5,4,4])\n",
        "x = np.where(arr == 4)\n",
        "print(x)"
      ]
    },
    {
      "cell_type": "code",
      "execution_count": null,
      "metadata": {
        "id": "pqxNlNNhweF4",
        "colab": {
          "base_uri": "https://localhost:8080/"
        },
        "outputId": "556000d8-cf70-4b97-a74a-bb7e19b995db"
      },
      "outputs": [
        {
          "output_type": "stream",
          "name": "stdout",
          "text": [
            "(array([1, 3, 5, 6]),)\n"
          ]
        }
      ],
      "source": [
        "x = np.where(arr%2 == 0)\n",
        "print(x)\n",
        "#even"
      ]
    },
    {
      "cell_type": "code",
      "execution_count": null,
      "metadata": {
        "id": "iGqdPnLvweF4"
      },
      "outputs": [],
      "source": [
        "#odd\n",
        "x = np.where(arr%2 == 1, 3)\n",
        "print(x)"
      ]
    },
    {
      "cell_type": "markdown",
      "metadata": {
        "id": "pPQ9OlOIweF4"
      },
      "source": [
        "Dimeshion, Shape (number of rows and columns) and Size of array"
      ]
    },
    {
      "cell_type": "code",
      "execution_count": null,
      "metadata": {
        "id": "aCdaWXfcweF4",
        "colab": {
          "base_uri": "https://localhost:8080/"
        },
        "outputId": "57803d19-fd09-4421-ef43-5b2293422984"
      },
      "outputs": [
        {
          "output_type": "stream",
          "name": "stdout",
          "text": [
            "[[1 3 5 7]\n",
            " [2 4 6 8]]\n"
          ]
        }
      ],
      "source": [
        "arr1 = np.array([[1,3,5,7], [2,4,6,8]])\n",
        "print(arr1)"
      ]
    },
    {
      "cell_type": "code",
      "execution_count": null,
      "metadata": {
        "id": "8RVP4st-weF4",
        "colab": {
          "base_uri": "https://localhost:8080/"
        },
        "outputId": "30c81f84-1834-4ad0-cd61-f63c701821df"
      },
      "outputs": [
        {
          "output_type": "execute_result",
          "data": {
            "text/plain": [
              "2"
            ]
          },
          "metadata": {},
          "execution_count": 24
        }
      ],
      "source": [
        "#dimension\n",
        "arr1.ndim"
      ]
    },
    {
      "cell_type": "code",
      "execution_count": null,
      "metadata": {
        "id": "TGG7DVuAweF5",
        "colab": {
          "base_uri": "https://localhost:8080/"
        },
        "outputId": "fe51204c-31eb-43ce-b20f-c561bb64b223"
      },
      "outputs": [
        {
          "output_type": "execute_result",
          "data": {
            "text/plain": [
              "8"
            ]
          },
          "metadata": {},
          "execution_count": 25
        }
      ],
      "source": [
        "arr1.size\n",
        "#total number of elements present inside array"
      ]
    },
    {
      "cell_type": "code",
      "execution_count": null,
      "metadata": {
        "id": "ZLsQEoa_weF5",
        "colab": {
          "base_uri": "https://localhost:8080/"
        },
        "outputId": "6fed2481-ee38-4489-b3c3-ab92b1dea805"
      },
      "outputs": [
        {
          "output_type": "execute_result",
          "data": {
            "text/plain": [
              "(2, 4)"
            ]
          },
          "metadata": {},
          "execution_count": 26
        }
      ],
      "source": [
        "arr1.shape\n",
        "#number of rows and columns"
      ]
    },
    {
      "cell_type": "code",
      "execution_count": null,
      "metadata": {
        "id": "eTCatUJ7weF5",
        "colab": {
          "base_uri": "https://localhost:8080/"
        },
        "outputId": "1197d756-b79d-436e-d9e2-680400ed683f"
      },
      "outputs": [
        {
          "output_type": "execute_result",
          "data": {
            "text/plain": [
              "array([[1, 2],\n",
              "       [3, 4]])"
            ]
          },
          "metadata": {},
          "execution_count": 27
        }
      ],
      "source": [
        "#transpose of an array\n",
        "a = np.array([[1, 2], [3, 4]])\n",
        "a"
      ]
    },
    {
      "cell_type": "code",
      "execution_count": null,
      "metadata": {
        "id": "h0SQyTCYweF5",
        "colab": {
          "base_uri": "https://localhost:8080/"
        },
        "outputId": "58393946-4bf8-4c84-97cc-875a583e5d5c"
      },
      "outputs": [
        {
          "output_type": "execute_result",
          "data": {
            "text/plain": [
              "array([[1, 3],\n",
              "       [2, 4]])"
            ]
          },
          "metadata": {},
          "execution_count": 28
        }
      ],
      "source": [
        "a.transpose()"
      ]
    },
    {
      "cell_type": "code",
      "execution_count": null,
      "metadata": {
        "id": "d0s86ye_weF6",
        "colab": {
          "base_uri": "https://localhost:8080/"
        },
        "outputId": "d2e7307b-6dc5-4a57-9e64-2ca15dd07492"
      },
      "outputs": [
        {
          "output_type": "execute_result",
          "data": {
            "text/plain": [
              "array([[1, 2],\n",
              "       [3, 4]])"
            ]
          },
          "metadata": {},
          "execution_count": 29
        }
      ],
      "source": [
        "#flatten\n",
        "a = np.array([[1,2], [3,4]])\n",
        "a"
      ]
    },
    {
      "cell_type": "code",
      "source": [
        "a.flatten()#converting into 1D"
      ],
      "metadata": {
        "id": "bUK2ZTxh8tzW",
        "colab": {
          "base_uri": "https://localhost:8080/"
        },
        "outputId": "249f33a0-bde8-47ce-de9b-49d8e4c3064d"
      },
      "execution_count": null,
      "outputs": [
        {
          "output_type": "execute_result",
          "data": {
            "text/plain": [
              "array([1, 2, 3, 4])"
            ]
          },
          "metadata": {},
          "execution_count": 30
        }
      ]
    },
    {
      "cell_type": "code",
      "source": [
        "arr =np.array([[1,2,3,4], [5,6,7,8], [9,10,11,12], [13,14,15,16]])\n",
        "arr"
      ],
      "metadata": {
        "id": "_6gYuV-mFVVl",
        "colab": {
          "base_uri": "https://localhost:8080/"
        },
        "outputId": "101a46d7-382f-41ab-cca5-ec192f2b46de"
      },
      "execution_count": null,
      "outputs": [
        {
          "output_type": "execute_result",
          "data": {
            "text/plain": [
              "array([[ 1,  2,  3,  4],\n",
              "       [ 5,  6,  7,  8],\n",
              "       [ 9, 10, 11, 12],\n",
              "       [13, 14, 15, 16]])"
            ]
          },
          "metadata": {},
          "execution_count": 31
        }
      ]
    },
    {
      "cell_type": "code",
      "source": [
        "arr.flatten()"
      ],
      "metadata": {
        "id": "mB37JAp7GAC-",
        "colab": {
          "base_uri": "https://localhost:8080/"
        },
        "outputId": "dc96f6b9-9612-4596-becd-55632de94bca"
      },
      "execution_count": null,
      "outputs": [
        {
          "output_type": "execute_result",
          "data": {
            "text/plain": [
              "array([ 1,  2,  3,  4,  5,  6,  7,  8,  9, 10, 11, 12, 13, 14, 15, 16])"
            ]
          },
          "metadata": {},
          "execution_count": 32
        }
      ]
    },
    {
      "cell_type": "code",
      "source": [
        "arr.flatten('F')"
      ],
      "metadata": {
        "id": "aZ2CMtIsIY8m",
        "colab": {
          "base_uri": "https://localhost:8080/"
        },
        "outputId": "c3fec400-75be-48ba-c657-4e97b8063ae5"
      },
      "execution_count": null,
      "outputs": [
        {
          "output_type": "execute_result",
          "data": {
            "text/plain": [
              "array([ 1,  5,  9, 13,  2,  6, 10, 14,  3,  7, 11, 15,  4,  8, 12, 16])"
            ]
          },
          "metadata": {},
          "execution_count": 33
        }
      ]
    },
    {
      "cell_type": "code",
      "execution_count": null,
      "metadata": {
        "id": "cXzytRXuweF7",
        "colab": {
          "base_uri": "https://localhost:8080/"
        },
        "outputId": "a2d1aa0c-8cdb-4b95-c68d-5b9d588436a0"
      },
      "outputs": [
        {
          "output_type": "stream",
          "name": "stdout",
          "text": [
            "[0 1 2 3 4 5]\n"
          ]
        }
      ],
      "source": [
        "#reshaping of an array\n",
        "a = np.arange(6)\n",
        "print(a)"
      ]
    },
    {
      "cell_type": "code",
      "execution_count": null,
      "metadata": {
        "id": "QCiNjidXweF7",
        "colab": {
          "base_uri": "https://localhost:8080/"
        },
        "outputId": "7d0f27ec-2ea1-41b0-d9b1-2d920aa22c18"
      },
      "outputs": [
        {
          "output_type": "execute_result",
          "data": {
            "text/plain": [
              "array([[0, 1, 2],\n",
              "       [3, 4, 5]])"
            ]
          },
          "metadata": {},
          "execution_count": 37
        }
      ],
      "source": [
        "a.reshape(2, 3)"
      ]
    },
    {
      "cell_type": "code",
      "source": [
        "a.reshape(-1, 2)"
      ],
      "metadata": {
        "id": "FVhNKffzuDCm",
        "colab": {
          "base_uri": "https://localhost:8080/"
        },
        "outputId": "1f375ce7-de1d-4c59-8585-b955af2ecb51"
      },
      "execution_count": null,
      "outputs": [
        {
          "output_type": "execute_result",
          "data": {
            "text/plain": [
              "array([[0, 1],\n",
              "       [2, 3],\n",
              "       [4, 5]])"
            ]
          },
          "metadata": {},
          "execution_count": 41
        }
      ]
    },
    {
      "cell_type": "code",
      "execution_count": null,
      "metadata": {
        "id": "eomqXuYdweF7"
      },
      "outputs": [],
      "source": [
        "np.reshape(a, newshape=(3,2))"
      ]
    },
    {
      "cell_type": "code",
      "execution_count": null,
      "metadata": {
        "id": "2DzoIOBBweF7"
      },
      "outputs": [],
      "source": [
        "a.reshape(-1, 2)"
      ]
    },
    {
      "cell_type": "code",
      "execution_count": null,
      "metadata": {
        "id": "47aNWpu4weF7",
        "colab": {
          "base_uri": "https://localhost:8080/"
        },
        "outputId": "0d2138f0-9587-4682-ec39-a7b438897b57"
      },
      "outputs": [
        {
          "output_type": "stream",
          "name": "stdout",
          "text": [
            "[ 1  2  3  4  5  6  7  8  9 10 11 12]\n"
          ]
        }
      ],
      "source": [
        "#1d to 2d\n",
        "arr = np.array([1,2,3,4,5,6,7,8,9,10,11,12])\n",
        "print(arr)"
      ]
    },
    {
      "cell_type": "code",
      "execution_count": null,
      "metadata": {
        "id": "lMYSwmp2weF7",
        "colab": {
          "base_uri": "https://localhost:8080/"
        },
        "outputId": "030c72c1-e671-496f-9f75-7619edd75778"
      },
      "outputs": [
        {
          "output_type": "stream",
          "name": "stdout",
          "text": [
            "[[ 1  2  3]\n",
            " [ 4  5  6]\n",
            " [ 7  8  9]\n",
            " [10 11 12]]\n"
          ]
        }
      ],
      "source": [
        "newarr = arr.reshape(4, 3)\n",
        "print(newarr)"
      ]
    },
    {
      "cell_type": "code",
      "execution_count": null,
      "metadata": {
        "scrolled": false,
        "id": "qcIBPRgwweF8",
        "colab": {
          "base_uri": "https://localhost:8080/"
        },
        "outputId": "bafeed5e-55fc-4be9-e0a5-6deab621854c"
      },
      "outputs": [
        {
          "output_type": "stream",
          "name": "stdout",
          "text": [
            "[[[ 1  2  3]\n",
            "  [ 4  5  6]]\n",
            "\n",
            " [[ 7  8  9]\n",
            "  [10 11 12]]]\n"
          ]
        }
      ],
      "source": [
        "#1d to 3D (outerdimension)\n",
        "arr = np.array([1,2,3,4,5,6,7,8,9,10,11,12])\n",
        "newarr = arr.reshape(2, 2, 3)#no. of arrays, no. of rows, no. of columns\n",
        "print(newarr)"
      ]
    },
    {
      "cell_type": "code",
      "execution_count": null,
      "metadata": {
        "id": "TJhj_WHKweF8"
      },
      "outputs": [],
      "source": [
        "newarr.shape"
      ]
    },
    {
      "cell_type": "code",
      "execution_count": null,
      "metadata": {
        "id": "B746UEiQweF8"
      },
      "outputs": [],
      "source": [
        "a = np.arange(72)\n",
        "a=np.reshape(a, (4,3,2,3))#no. of blocks, arrays in each block, rows, columns"
      ]
    },
    {
      "cell_type": "code",
      "execution_count": null,
      "metadata": {
        "id": "0HL8soPIweF8",
        "colab": {
          "base_uri": "https://localhost:8080/"
        },
        "outputId": "82807d2d-da15-46e4-9932-aa3aea8cd4d2"
      },
      "outputs": [
        {
          "output_type": "execute_result",
          "data": {
            "text/plain": [
              "array([[[[ 0,  1,  2],\n",
              "         [ 3,  4,  5]],\n",
              "\n",
              "        [[ 6,  7,  8],\n",
              "         [ 9, 10, 11]],\n",
              "\n",
              "        [[12, 13, 14],\n",
              "         [15, 16, 17]]],\n",
              "\n",
              "\n",
              "       [[[18, 19, 20],\n",
              "         [21, 22, 23]],\n",
              "\n",
              "        [[24, 25, 26],\n",
              "         [27, 28, 29]],\n",
              "\n",
              "        [[30, 31, 32],\n",
              "         [33, 34, 35]]],\n",
              "\n",
              "\n",
              "       [[[36, 37, 38],\n",
              "         [39, 40, 41]],\n",
              "\n",
              "        [[42, 43, 44],\n",
              "         [45, 46, 47]],\n",
              "\n",
              "        [[48, 49, 50],\n",
              "         [51, 52, 53]]],\n",
              "\n",
              "\n",
              "       [[[54, 55, 56],\n",
              "         [57, 58, 59]],\n",
              "\n",
              "        [[60, 61, 62],\n",
              "         [63, 64, 65]],\n",
              "\n",
              "        [[66, 67, 68],\n",
              "         [69, 70, 71]]]])"
            ]
          },
          "metadata": {},
          "execution_count": 46
        }
      ],
      "source": [
        "a"
      ]
    },
    {
      "cell_type": "code",
      "source": [
        "import numpy as np\n",
        "\n",
        "arr = np.array([1, 2, 3, 4, 5, 6, 7, 8, 9, 10, 11, 12])\n",
        "\n",
        "newarr = arr.reshape(2, -1, 2)\n",
        "\n",
        "print(newarr)"
      ],
      "metadata": {
        "colab": {
          "base_uri": "https://localhost:8080/"
        },
        "id": "5_mnd-2F6CPN",
        "outputId": "c0735d62-d96f-462b-9b28-df761c3807da"
      },
      "execution_count": null,
      "outputs": [
        {
          "output_type": "stream",
          "name": "stdout",
          "text": [
            "[[[ 1  2]\n",
            "  [ 3  4]\n",
            "  [ 5  6]]\n",
            "\n",
            " [[ 7  8]\n",
            "  [ 9 10]\n",
            "  [11 12]]]\n"
          ]
        }
      ]
    },
    {
      "cell_type": "code",
      "source": [
        "arr=np.arange(10)\n",
        "newarr = np.split(arr, 3)  #this method works on equal distribution\n",
        "print(newarr)"
      ],
      "metadata": {
        "colab": {
          "base_uri": "https://localhost:8080/",
          "height": 297
        },
        "id": "uJQbB7b07GRC",
        "outputId": "cf1b1614-a1c6-498f-8c0c-8d64d11fb40d"
      },
      "execution_count": null,
      "outputs": [
        {
          "output_type": "error",
          "ename": "ValueError",
          "evalue": "array split does not result in an equal division",
          "traceback": [
            "\u001b[0;31m---------------------------------------------------------------------------\u001b[0m",
            "\u001b[0;31mValueError\u001b[0m                                Traceback (most recent call last)",
            "\u001b[0;32m/tmp/ipython-input-4-3078477147.py\u001b[0m in \u001b[0;36m<cell line: 0>\u001b[0;34m()\u001b[0m\n\u001b[1;32m      1\u001b[0m \u001b[0marr\u001b[0m\u001b[0;34m=\u001b[0m\u001b[0mnp\u001b[0m\u001b[0;34m.\u001b[0m\u001b[0marange\u001b[0m\u001b[0;34m(\u001b[0m\u001b[0;36m10\u001b[0m\u001b[0;34m)\u001b[0m\u001b[0;34m\u001b[0m\u001b[0;34m\u001b[0m\u001b[0m\n\u001b[0;32m----> 2\u001b[0;31m \u001b[0mnewarr\u001b[0m \u001b[0;34m=\u001b[0m \u001b[0mnp\u001b[0m\u001b[0;34m.\u001b[0m\u001b[0msplit\u001b[0m\u001b[0;34m(\u001b[0m\u001b[0marr\u001b[0m\u001b[0;34m,\u001b[0m \u001b[0;36m3\u001b[0m\u001b[0;34m)\u001b[0m  \u001b[0;31m#this method works on equal distribution\u001b[0m\u001b[0;34m\u001b[0m\u001b[0;34m\u001b[0m\u001b[0m\n\u001b[0m\u001b[1;32m      3\u001b[0m \u001b[0mprint\u001b[0m\u001b[0;34m(\u001b[0m\u001b[0mnewarr\u001b[0m\u001b[0;34m)\u001b[0m\u001b[0;34m\u001b[0m\u001b[0;34m\u001b[0m\u001b[0m\n",
            "\u001b[0;32m/usr/local/lib/python3.11/dist-packages/numpy/lib/_shape_base_impl.py\u001b[0m in \u001b[0;36msplit\u001b[0;34m(ary, indices_or_sections, axis)\u001b[0m\n\u001b[1;32m    872\u001b[0m         \u001b[0mN\u001b[0m \u001b[0;34m=\u001b[0m \u001b[0mary\u001b[0m\u001b[0;34m.\u001b[0m\u001b[0mshape\u001b[0m\u001b[0;34m[\u001b[0m\u001b[0maxis\u001b[0m\u001b[0;34m]\u001b[0m\u001b[0;34m\u001b[0m\u001b[0;34m\u001b[0m\u001b[0m\n\u001b[1;32m    873\u001b[0m         \u001b[0;32mif\u001b[0m \u001b[0mN\u001b[0m \u001b[0;34m%\u001b[0m \u001b[0msections\u001b[0m\u001b[0;34m:\u001b[0m\u001b[0;34m\u001b[0m\u001b[0;34m\u001b[0m\u001b[0m\n\u001b[0;32m--> 874\u001b[0;31m             raise ValueError(\n\u001b[0m\u001b[1;32m    875\u001b[0m                 'array split does not result in an equal division') from None\n\u001b[1;32m    876\u001b[0m     \u001b[0;32mreturn\u001b[0m \u001b[0marray_split\u001b[0m\u001b[0;34m(\u001b[0m\u001b[0mary\u001b[0m\u001b[0;34m,\u001b[0m \u001b[0mindices_or_sections\u001b[0m\u001b[0;34m,\u001b[0m \u001b[0maxis\u001b[0m\u001b[0;34m)\u001b[0m\u001b[0;34m\u001b[0m\u001b[0;34m\u001b[0m\u001b[0m\n",
            "\u001b[0;31mValueError\u001b[0m: array split does not result in an equal division"
          ]
        }
      ]
    },
    {
      "cell_type": "markdown",
      "source": [
        "### Element wise arithmetic operations"
      ],
      "metadata": {
        "id": "t3oRsnxvxiFW"
      }
    },
    {
      "cell_type": "code",
      "source": [
        "import numpy as np\n",
        "#simple operators\n",
        "data = np.array([1,2])\n",
        "\n",
        "ones = np.ones(2, dtype=int)\n",
        "\n",
        "a = np.array([3,4])\n",
        "\n",
        "print(data)\n",
        "print()\n",
        "print(ones)\n",
        "print(a)"
      ],
      "metadata": {
        "id": "n0QvUhZHxVLq",
        "colab": {
          "base_uri": "https://localhost:8080/"
        },
        "outputId": "7ef93c13-65c8-4c14-ffd3-555d682f74c6"
      },
      "execution_count": null,
      "outputs": [
        {
          "output_type": "stream",
          "name": "stdout",
          "text": [
            "[1 2]\n",
            "\n",
            "[1 1]\n",
            "[3 4]\n"
          ]
        }
      ]
    },
    {
      "cell_type": "code",
      "source": [
        "data + ones + a"
      ],
      "metadata": {
        "id": "RmoJWgKXxVIl",
        "colab": {
          "base_uri": "https://localhost:8080/"
        },
        "outputId": "c446285b-9689-48f1-e538-4b87ed0dfcdb"
      },
      "execution_count": null,
      "outputs": [
        {
          "output_type": "execute_result",
          "data": {
            "text/plain": [
              "array([5, 7])"
            ]
          },
          "metadata": {},
          "execution_count": 6
        }
      ]
    },
    {
      "cell_type": "code",
      "source": [
        "data - ones"
      ],
      "metadata": {
        "id": "BcIhJXebxVGK",
        "colab": {
          "base_uri": "https://localhost:8080/"
        },
        "outputId": "3d132e5f-cc64-412e-c9f0-541adb72b28a"
      },
      "execution_count": null,
      "outputs": [
        {
          "output_type": "execute_result",
          "data": {
            "text/plain": [
              "array([0, 1])"
            ]
          },
          "metadata": {},
          "execution_count": 7
        }
      ]
    },
    {
      "cell_type": "code",
      "source": [
        "data * ones"
      ],
      "metadata": {
        "id": "9oh4jjKfxVDb",
        "colab": {
          "base_uri": "https://localhost:8080/"
        },
        "outputId": "c1c7ebf2-1744-47f3-fa5f-b3c6aba99473"
      },
      "execution_count": null,
      "outputs": [
        {
          "output_type": "execute_result",
          "data": {
            "text/plain": [
              "array([1, 2])"
            ]
          },
          "metadata": {},
          "execution_count": 8
        }
      ]
    },
    {
      "cell_type": "code",
      "source": [
        "data / ones"
      ],
      "metadata": {
        "id": "h0pIx2U6xVA4",
        "colab": {
          "base_uri": "https://localhost:8080/"
        },
        "outputId": "a20abf05-d4fa-45e2-ec30-7c94023ed60c"
      },
      "execution_count": null,
      "outputs": [
        {
          "output_type": "execute_result",
          "data": {
            "text/plain": [
              "array([1., 2.])"
            ]
          },
          "metadata": {},
          "execution_count": 9
        }
      ]
    },
    {
      "cell_type": "code",
      "source": [
        "a1 = np.array([[1,2], [3,4]])\n",
        "a2 = np.array([[5,6], [7,8]])\n",
        "\n",
        "print(a1, a2, sep=\"\\n\")"
      ],
      "metadata": {
        "id": "mW9_qWNqxU99",
        "colab": {
          "base_uri": "https://localhost:8080/"
        },
        "outputId": "0dd8ea9c-40d6-4ae2-c45f-2009286adb74"
      },
      "execution_count": null,
      "outputs": [
        {
          "output_type": "stream",
          "name": "stdout",
          "text": [
            "[[1 2]\n",
            " [3 4]]\n",
            "[[5 6]\n",
            " [7 8]]\n"
          ]
        }
      ]
    },
    {
      "cell_type": "code",
      "source": [
        "a1 + a2"
      ],
      "metadata": {
        "id": "FbB4RsiRxU7o",
        "colab": {
          "base_uri": "https://localhost:8080/"
        },
        "outputId": "6181fb22-315c-45e4-928f-01caa1c8cefd"
      },
      "execution_count": null,
      "outputs": [
        {
          "output_type": "execute_result",
          "data": {
            "text/plain": [
              "array([[ 6,  8],\n",
              "       [10, 12]])"
            ]
          },
          "metadata": {},
          "execution_count": 11
        }
      ]
    },
    {
      "cell_type": "code",
      "source": [
        "a1 - a2"
      ],
      "metadata": {
        "id": "_uToIgIjxU47",
        "colab": {
          "base_uri": "https://localhost:8080/"
        },
        "outputId": "59a6abc3-7b78-49bb-8909-a148c3e0cc89"
      },
      "execution_count": null,
      "outputs": [
        {
          "output_type": "execute_result",
          "data": {
            "text/plain": [
              "array([[-4, -4],\n",
              "       [-4, -4]])"
            ]
          },
          "metadata": {},
          "execution_count": 12
        }
      ]
    },
    {
      "cell_type": "code",
      "source": [
        "a1 * a2"
      ],
      "metadata": {
        "id": "0w13Rnl2xU2a",
        "colab": {
          "base_uri": "https://localhost:8080/"
        },
        "outputId": "2d4803f7-e4cd-47da-cd08-57d32dba734a"
      },
      "execution_count": null,
      "outputs": [
        {
          "output_type": "execute_result",
          "data": {
            "text/plain": [
              "array([[ 5, 12],\n",
              "       [21, 32]])"
            ]
          },
          "metadata": {},
          "execution_count": 13
        }
      ]
    },
    {
      "cell_type": "code",
      "source": [
        "a1 / a2"
      ],
      "metadata": {
        "id": "F9ZX0mFYxUz6",
        "colab": {
          "base_uri": "https://localhost:8080/"
        },
        "outputId": "b4cb07f6-e69f-431b-d242-60aebd886bde"
      },
      "execution_count": null,
      "outputs": [
        {
          "output_type": "execute_result",
          "data": {
            "text/plain": [
              "array([[0.2       , 0.33333333],\n",
              "       [0.6       , 0.66666667]])"
            ]
          },
          "metadata": {},
          "execution_count": 21
        }
      ]
    },
    {
      "cell_type": "code",
      "source": [
        "np.dot(a1,a2)"
      ],
      "metadata": {
        "id": "GudOzebqxUxT",
        "colab": {
          "base_uri": "https://localhost:8080/"
        },
        "outputId": "64c2673f-8b76-4b7c-9176-db1c1855775a"
      },
      "execution_count": null,
      "outputs": [
        {
          "output_type": "execute_result",
          "data": {
            "text/plain": [
              "array([[19, 22],\n",
              "       [43, 50]])"
            ]
          },
          "metadata": {},
          "execution_count": 15
        }
      ]
    },
    {
      "cell_type": "code",
      "source": [
        "#2d arrays with different shapes\n",
        "a1 = np.array([[1,2], [3,4,]])\n",
        "\n",
        "a2 = np.array([[5,6]])\n",
        "\n",
        "print(a1)\n",
        "print()\n",
        "print(a2)"
      ],
      "metadata": {
        "id": "Ly0TsUMGxUsK",
        "colab": {
          "base_uri": "https://localhost:8080/"
        },
        "outputId": "ec9af681-fced-4bc3-c146-91b87c284f31"
      },
      "execution_count": null,
      "outputs": [
        {
          "output_type": "stream",
          "name": "stdout",
          "text": [
            "[[1 2]\n",
            " [3 4]]\n",
            "\n",
            "[[5 6]]\n"
          ]
        }
      ]
    },
    {
      "cell_type": "code",
      "source": [
        "a2 + a1"
      ],
      "metadata": {
        "id": "G47gu7zU0ORX",
        "colab": {
          "base_uri": "https://localhost:8080/"
        },
        "outputId": "1ed716e5-5e6a-4718-f6d3-63336349485e"
      },
      "execution_count": null,
      "outputs": [
        {
          "output_type": "execute_result",
          "data": {
            "text/plain": [
              "array([[ 6,  8],\n",
              "       [ 8, 10]])"
            ]
          },
          "metadata": {},
          "execution_count": 17
        }
      ]
    },
    {
      "cell_type": "code",
      "source": [
        "#2d array with different sizes\n",
        "data = np.array([[1,2], [3,4,]])\n",
        "\n",
        "datas = np.array([[5,6], [7,8], [8,9]])\n",
        "\n",
        "print(datas)\n",
        "print()\n",
        "print(data)"
      ],
      "metadata": {
        "id": "N3OWIejt0OOx",
        "colab": {
          "base_uri": "https://localhost:8080/"
        },
        "outputId": "59891f43-bd44-42a7-e9f9-00c57030d45d"
      },
      "execution_count": null,
      "outputs": [
        {
          "output_type": "stream",
          "name": "stdout",
          "text": [
            "[[5 6]\n",
            " [7 8]\n",
            " [8 9]]\n",
            "\n",
            "[[1 2]\n",
            " [3 4]]\n"
          ]
        }
      ]
    },
    {
      "cell_type": "code",
      "source": [
        "data + datas"
      ],
      "metadata": {
        "id": "02dX-8r40OL1",
        "colab": {
          "base_uri": "https://localhost:8080/",
          "height": 141
        },
        "outputId": "0060b020-0935-4cb1-dc14-badd4ecd5170"
      },
      "execution_count": null,
      "outputs": [
        {
          "output_type": "error",
          "ename": "ValueError",
          "evalue": "operands could not be broadcast together with shapes (2,2) (3,2) ",
          "traceback": [
            "\u001b[0;31m---------------------------------------------------------------------------\u001b[0m",
            "\u001b[0;31mValueError\u001b[0m                                Traceback (most recent call last)",
            "\u001b[0;32m/tmp/ipython-input-19-4059332762.py\u001b[0m in \u001b[0;36m<cell line: 0>\u001b[0;34m()\u001b[0m\n\u001b[0;32m----> 1\u001b[0;31m \u001b[0mdata\u001b[0m \u001b[0;34m+\u001b[0m \u001b[0mdatas\u001b[0m\u001b[0;34m\u001b[0m\u001b[0;34m\u001b[0m\u001b[0m\n\u001b[0m",
            "\u001b[0;31mValueError\u001b[0m: operands could not be broadcast together with shapes (2,2) (3,2) "
          ]
        }
      ]
    },
    {
      "cell_type": "code",
      "source": [
        "a = np.array([1,2,3,4])\n",
        "a.sum()"
      ],
      "metadata": {
        "id": "wr9alaIp0OJR",
        "colab": {
          "base_uri": "https://localhost:8080/"
        },
        "outputId": "689748be-9606-4973-dbfe-75efc3248a8a"
      },
      "execution_count": null,
      "outputs": [
        {
          "output_type": "execute_result",
          "data": {
            "text/plain": [
              "np.int64(10)"
            ]
          },
          "metadata": {},
          "execution_count": 22
        }
      ]
    },
    {
      "cell_type": "code",
      "source": [
        "a.max()"
      ],
      "metadata": {
        "id": "EoTKwGQf0OGs",
        "colab": {
          "base_uri": "https://localhost:8080/"
        },
        "outputId": "5871e652-d862-4ea9-80ae-75730a2c184c"
      },
      "execution_count": null,
      "outputs": [
        {
          "output_type": "execute_result",
          "data": {
            "text/plain": [
              "np.int64(4)"
            ]
          },
          "metadata": {},
          "execution_count": 23
        }
      ]
    },
    {
      "cell_type": "code",
      "source": [
        "a.min()"
      ],
      "metadata": {
        "id": "vlfjTV8I0OBo",
        "colab": {
          "base_uri": "https://localhost:8080/"
        },
        "outputId": "2ec38a50-9040-4e11-827b-a861ee7c6263"
      },
      "execution_count": null,
      "outputs": [
        {
          "output_type": "execute_result",
          "data": {
            "text/plain": [
              "np.int64(1)"
            ]
          },
          "metadata": {},
          "execution_count": 24
        }
      ]
    },
    {
      "cell_type": "code",
      "source": [
        "a = np.array([[5,6], [7,8], [8,9]])\n",
        "a"
      ],
      "metadata": {
        "id": "XlMOyNbz0N-2",
        "colab": {
          "base_uri": "https://localhost:8080/"
        },
        "outputId": "9dc94031-46f4-45bc-c7da-040f3e0995e0"
      },
      "execution_count": null,
      "outputs": [
        {
          "output_type": "execute_result",
          "data": {
            "text/plain": [
              "array([[5, 6],\n",
              "       [7, 8],\n",
              "       [8, 9]])"
            ]
          },
          "metadata": {},
          "execution_count": 25
        }
      ]
    },
    {
      "cell_type": "code",
      "source": [
        "a.max()"
      ],
      "metadata": {
        "colab": {
          "base_uri": "https://localhost:8080/"
        },
        "id": "AiHA1WP-AC_m",
        "outputId": "3a22afdd-ace3-4b3a-8e7a-0cedebc1eb2b"
      },
      "execution_count": null,
      "outputs": [
        {
          "output_type": "execute_result",
          "data": {
            "text/plain": [
              "np.int64(9)"
            ]
          },
          "metadata": {},
          "execution_count": 28
        }
      ]
    },
    {
      "cell_type": "code",
      "source": [
        "a.max(axis=0)\n",
        "#axis 0 is vertical (top to bottom)"
      ],
      "metadata": {
        "id": "EL8xjlh10N7-",
        "colab": {
          "base_uri": "https://localhost:8080/"
        },
        "outputId": "86baafbb-b611-486f-d8e7-6d0f38294f2c"
      },
      "execution_count": null,
      "outputs": [
        {
          "output_type": "execute_result",
          "data": {
            "text/plain": [
              "array([8, 9])"
            ]
          },
          "metadata": {},
          "execution_count": 26
        }
      ]
    },
    {
      "cell_type": "code",
      "source": [
        "a.max(axis=1)\n",
        "#axis 1 is horizontal"
      ],
      "metadata": {
        "id": "WTULgaHc42en",
        "colab": {
          "base_uri": "https://localhost:8080/"
        },
        "outputId": "bab9e508-e342-4352-874e-0ddc140a2ea8"
      },
      "execution_count": null,
      "outputs": [
        {
          "output_type": "execute_result",
          "data": {
            "text/plain": [
              "array([6, 8, 9])"
            ]
          },
          "metadata": {},
          "execution_count": 27
        }
      ]
    },
    {
      "cell_type": "code",
      "source": [
        "a.min(axis=1)"
      ],
      "metadata": {
        "id": "xXtw5Yft42cC"
      },
      "execution_count": null,
      "outputs": []
    },
    {
      "cell_type": "code",
      "source": [
        "np.mean(a,axis=0)"
      ],
      "metadata": {
        "id": "PesAlgXx42W5",
        "colab": {
          "base_uri": "https://localhost:8080/"
        },
        "outputId": "354229c1-431a-4b29-fb68-76d880db9d4d"
      },
      "execution_count": null,
      "outputs": [
        {
          "output_type": "execute_result",
          "data": {
            "text/plain": [
              "array([6.66666667, 7.66666667])"
            ]
          },
          "metadata": {},
          "execution_count": 29
        }
      ]
    },
    {
      "cell_type": "code",
      "source": [
        "np.mean(a, axis=1)"
      ],
      "metadata": {
        "id": "pOin6OOx42Ua",
        "colab": {
          "base_uri": "https://localhost:8080/"
        },
        "outputId": "b6cda27e-63fa-4358-b556-b1ace263345b"
      },
      "execution_count": null,
      "outputs": [
        {
          "output_type": "execute_result",
          "data": {
            "text/plain": [
              "array([5.5, 7.5, 8.5])"
            ]
          },
          "metadata": {},
          "execution_count": 30
        }
      ]
    },
    {
      "cell_type": "code",
      "source": [
        "np.median(a, axis=0)"
      ],
      "metadata": {
        "id": "xrlN0ODG42R2",
        "colab": {
          "base_uri": "https://localhost:8080/"
        },
        "outputId": "91c6eb6c-c94a-40be-af4e-27cbe41c8783"
      },
      "execution_count": null,
      "outputs": [
        {
          "output_type": "execute_result",
          "data": {
            "text/plain": [
              "array([7., 8.])"
            ]
          },
          "metadata": {},
          "execution_count": 31
        }
      ]
    },
    {
      "cell_type": "code",
      "source": [
        " np.median(a,axis=1)"
      ],
      "metadata": {
        "id": "dvO1wmnK6BX8",
        "colab": {
          "base_uri": "https://localhost:8080/"
        },
        "outputId": "cb1cff68-3508-4fa6-8496-ea3b44d94ca6"
      },
      "execution_count": null,
      "outputs": [
        {
          "output_type": "execute_result",
          "data": {
            "text/plain": [
              "array([5.5, 7.5, 8.5])"
            ]
          },
          "metadata": {},
          "execution_count": 32
        }
      ]
    },
    {
      "cell_type": "markdown",
      "source": [
        "### fetching elements based on conditions"
      ],
      "metadata": {
        "id": "YUVs_bAm6rxP"
      }
    },
    {
      "cell_type": "code",
      "execution_count": null,
      "metadata": {
        "id": "99xJnZsUPBoA",
        "colab": {
          "base_uri": "https://localhost:8080/"
        },
        "outputId": "28a80604-e0a7-409d-8625-8814098553e0"
      },
      "outputs": [
        {
          "output_type": "stream",
          "name": "stdout",
          "text": [
            "[[ 1  2  3  4]\n",
            " [ 5  6  7  8]\n",
            " [ 9 10 11 12]]\n"
          ]
        }
      ],
      "source": [
        "a = np.array([[1,2,3,4], [5,6,7,8], [9,10,11,12]])\n",
        "print(a)"
      ]
    },
    {
      "cell_type": "code",
      "execution_count": null,
      "metadata": {
        "id": "qIhVFRiQPBoB",
        "colab": {
          "base_uri": "https://localhost:8080/"
        },
        "outputId": "f7243b98-07d2-4a37-e85f-d78cb3e1349d"
      },
      "outputs": [
        {
          "output_type": "stream",
          "name": "stdout",
          "text": [
            "[1 2 3 4]\n"
          ]
        }
      ],
      "source": [
        "print(a[a < 5])\n",
        "#within [] write the conditional expression"
      ]
    },
    {
      "cell_type": "code",
      "execution_count": null,
      "metadata": {
        "id": "rdUVsI-IPBoB",
        "colab": {
          "base_uri": "https://localhost:8080/"
        },
        "outputId": "c93f135b-6e6a-4283-8404-1abf6e058839"
      },
      "outputs": [
        {
          "output_type": "stream",
          "name": "stdout",
          "text": [
            "[ 5  6  7  8  9 10 11 12]\n"
          ]
        }
      ],
      "source": [
        "print(a[a >= 5])"
      ]
    },
    {
      "cell_type": "code",
      "execution_count": null,
      "metadata": {
        "id": "onkUDdUuPBoB",
        "colab": {
          "base_uri": "https://localhost:8080/"
        },
        "outputId": "46ab49c5-5e30-4b69-837e-06999fe7c9d8"
      },
      "outputs": [
        {
          "output_type": "stream",
          "name": "stdout",
          "text": [
            "[ 2  4  6  8 10 12]\n"
          ]
        }
      ],
      "source": [
        "print(a[a%2 == 0])"
      ]
    },
    {
      "cell_type": "code",
      "execution_count": null,
      "metadata": {
        "id": "ODs_45AWPBoB",
        "colab": {
          "base_uri": "https://localhost:8080/"
        },
        "outputId": "bec6cf98-8fff-4e04-cdc7-18856f417b02"
      },
      "outputs": [
        {
          "output_type": "stream",
          "name": "stdout",
          "text": [
            "[ 1  3  5  7  9 11]\n"
          ]
        }
      ],
      "source": [
        "print(a[a%2 != 0])"
      ]
    },
    {
      "cell_type": "code",
      "execution_count": null,
      "metadata": {
        "id": "OUn_3rMUPBoB",
        "colab": {
          "base_uri": "https://localhost:8080/"
        },
        "outputId": "ca70efdb-da8c-4281-bf0c-1fe341f553b5"
      },
      "outputs": [
        {
          "output_type": "stream",
          "name": "stdout",
          "text": [
            "[ 3  4  5  6  7  8  9 10]\n"
          ]
        }
      ],
      "source": [
        "print(a[(a > 2) & (a < 11)])\n",
        "#and operator all conditions must be satisfied"
      ]
    },
    {
      "cell_type": "code",
      "execution_count": null,
      "metadata": {
        "id": "wzAqXoHiPBoB",
        "colab": {
          "base_uri": "https://localhost:8080/"
        },
        "outputId": "f11b56b1-712f-4dc7-f3ad-3b7c9ce6d9b0"
      },
      "outputs": [
        {
          "output_type": "stream",
          "name": "stdout",
          "text": [
            "[ 1  2  3  4  5  6  7  8  9 10 11 12]\n"
          ]
        }
      ],
      "source": [
        "print(a[(a > 2) | (a < 11)])\n",
        "#atleast one condition shall be satisfied"
      ]
    },
    {
      "cell_type": "markdown",
      "metadata": {
        "id": "SjRGi0hGPBoC"
      },
      "source": [
        "### Indexing and slicing"
      ]
    },
    {
      "cell_type": "code",
      "execution_count": null,
      "metadata": {
        "id": "XGcCelomPBoC",
        "colab": {
          "base_uri": "https://localhost:8080/"
        },
        "outputId": "458fc85e-6a93-4a94-dff5-a7f0d3c6fc73"
      },
      "outputs": [
        {
          "output_type": "stream",
          "name": "stdout",
          "text": [
            "[1 2 3]\n"
          ]
        }
      ],
      "source": [
        "import numpy as np\n",
        "data = np.array([1,2,3])\n",
        "print(data)"
      ]
    },
    {
      "cell_type": "code",
      "execution_count": null,
      "metadata": {
        "id": "tPGvfMJVPBoC",
        "colab": {
          "base_uri": "https://localhost:8080/"
        },
        "outputId": "08c82eca-9f24-435f-d2e8-6e88ffaec849"
      },
      "outputs": [
        {
          "output_type": "execute_result",
          "data": {
            "text/plain": [
              "np.int64(3)"
            ]
          },
          "metadata": {},
          "execution_count": 41
        }
      ],
      "source": [
        "data[2]"
      ]
    },
    {
      "cell_type": "code",
      "execution_count": null,
      "metadata": {
        "id": "7NOSkn7oPBoC",
        "colab": {
          "base_uri": "https://localhost:8080/"
        },
        "outputId": "149db4f7-550f-4993-dd44-973b3b5c8b02"
      },
      "outputs": [
        {
          "output_type": "execute_result",
          "data": {
            "text/plain": [
              "array([1, 2])"
            ]
          },
          "metadata": {},
          "execution_count": 42
        }
      ],
      "source": [
        "data[0:2]#0, 1\n",
        "#end position shall be exclusive"
      ]
    },
    {
      "cell_type": "code",
      "execution_count": null,
      "metadata": {
        "id": "fLrhhtxTPBoC"
      },
      "outputs": [],
      "source": [
        "data[1:]"
      ]
    },
    {
      "cell_type": "code",
      "execution_count": null,
      "metadata": {
        "id": "ZTwDoP5dPBoC"
      },
      "outputs": [],
      "source": [
        "data[:3]#0-2"
      ]
    },
    {
      "cell_type": "code",
      "execution_count": null,
      "metadata": {
        "id": "aQDU3yyaPBoC"
      },
      "outputs": [],
      "source": [
        "data[::-1]"
      ]
    },
    {
      "cell_type": "code",
      "execution_count": null,
      "metadata": {
        "id": "JHlB9MCCPBoD",
        "colab": {
          "base_uri": "https://localhost:8080/"
        },
        "outputId": "979ed9a8-733a-4c09-8324-84fc6031f0f6"
      },
      "outputs": [
        {
          "output_type": "execute_result",
          "data": {
            "text/plain": [
              "array([[1, 2],\n",
              "       [3, 4],\n",
              "       [5, 6]])"
            ]
          },
          "metadata": {},
          "execution_count": 43
        }
      ],
      "source": [
        "dataone  = np.array([[1,2], [3,4,], [5,6]])\n",
        "dataone"
      ]
    },
    {
      "cell_type": "code",
      "execution_count": null,
      "metadata": {
        "id": "nXZDScTtPBoD",
        "colab": {
          "base_uri": "https://localhost:8080/"
        },
        "outputId": "949ceb0f-2867-461c-a726-e4e7d6895f16"
      },
      "outputs": [
        {
          "output_type": "execute_result",
          "data": {
            "text/plain": [
              "array([1, 2])"
            ]
          },
          "metadata": {},
          "execution_count": 44
        }
      ],
      "source": [
        "dataone[0]#row index position"
      ]
    },
    {
      "cell_type": "markdown",
      "metadata": {
        "id": "r-Yiv90dPBoD"
      },
      "source": [
        "row, column combinations: array[index position of rows, index position of columns]"
      ]
    },
    {
      "cell_type": "code",
      "execution_count": null,
      "metadata": {
        "id": "0kCFgqJ9PBoD",
        "colab": {
          "base_uri": "https://localhost:8080/"
        },
        "outputId": "509cdbb7-0a63-43ce-bf35-f170553f89cb"
      },
      "outputs": [
        {
          "output_type": "execute_result",
          "data": {
            "text/plain": [
              "np.int64(2)"
            ]
          },
          "metadata": {},
          "execution_count": 45
        }
      ],
      "source": [
        "dataone[0,1]#o row and 1 column"
      ]
    },
    {
      "cell_type": "code",
      "execution_count": null,
      "metadata": {
        "id": "7qhXUOYSPBoD",
        "colab": {
          "base_uri": "https://localhost:8080/"
        },
        "outputId": "87a27d1e-f83b-4645-d672-60187cbe187b"
      },
      "outputs": [
        {
          "output_type": "execute_result",
          "data": {
            "text/plain": [
              "array([2, 4, 6])"
            ]
          },
          "metadata": {},
          "execution_count": 46
        }
      ],
      "source": [
        "dataone[:,1]#all rows and 1st index column"
      ]
    },
    {
      "cell_type": "code",
      "execution_count": null,
      "metadata": {
        "id": "wRM7_su0PBoD",
        "colab": {
          "base_uri": "https://localhost:8080/"
        },
        "outputId": "a15e826d-2698-46ab-f25c-faf59cf5ab36"
      },
      "outputs": [
        {
          "output_type": "execute_result",
          "data": {
            "text/plain": [
              "array([3, 4])"
            ]
          },
          "metadata": {},
          "execution_count": 47
        }
      ],
      "source": [
        "dataone[1,0:2]#1st index row and 0th + 1st index column"
      ]
    },
    {
      "cell_type": "code",
      "execution_count": null,
      "metadata": {
        "id": "V0WBLOvTPBoE",
        "colab": {
          "base_uri": "https://localhost:8080/"
        },
        "outputId": "b2facb6f-dbb0-4ce3-93d3-82687a57d7a0"
      },
      "outputs": [
        {
          "output_type": "execute_result",
          "data": {
            "text/plain": [
              "array([[1, 2],\n",
              "       [3, 4],\n",
              "       [5, 6]])"
            ]
          },
          "metadata": {},
          "execution_count": 48
        }
      ],
      "source": [
        "dataone"
      ]
    },
    {
      "cell_type": "code",
      "execution_count": null,
      "metadata": {
        "id": "esBeV2KQPBoE",
        "colab": {
          "base_uri": "https://localhost:8080/"
        },
        "outputId": "99ed3b56-1303-4baa-b7fd-c3855062f229"
      },
      "outputs": [
        {
          "output_type": "execute_result",
          "data": {
            "text/plain": [
              "array([2, 4])"
            ]
          },
          "metadata": {},
          "execution_count": 49
        }
      ],
      "source": [
        "dataone[0:2, 1]"
      ]
    },
    {
      "cell_type": "code",
      "execution_count": null,
      "metadata": {
        "id": "kaLcyG2fPBoE",
        "colab": {
          "base_uri": "https://localhost:8080/"
        },
        "outputId": "1fcec0f6-9395-4d7e-e32c-626eff7c1432"
      },
      "outputs": [
        {
          "output_type": "execute_result",
          "data": {
            "text/plain": [
              "array([[1, 2]])"
            ]
          },
          "metadata": {},
          "execution_count": 50
        }
      ],
      "source": [
        "dataone[0:1,0:2]"
      ]
    },
    {
      "cell_type": "code",
      "source": [],
      "metadata": {
        "id": "mqoOwHbvHfJt"
      },
      "execution_count": null,
      "outputs": []
    }
  ],
  "metadata": {
    "kernelspec": {
      "display_name": "Python 3",
      "language": "python",
      "name": "python3"
    },
    "language_info": {
      "codemirror_mode": {
        "name": "ipython",
        "version": 3
      },
      "file_extension": ".py",
      "mimetype": "text/x-python",
      "name": "python",
      "nbconvert_exporter": "python",
      "pygments_lexer": "ipython3",
      "version": "3.8.3"
    },
    "colab": {
      "provenance": [],
      "include_colab_link": true
    }
  },
  "nbformat": 4,
  "nbformat_minor": 0
}