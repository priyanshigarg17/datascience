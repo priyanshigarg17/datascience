{
  "nbformat": 4,
  "nbformat_minor": 0,
  "metadata": {
    "colab": {
      "provenance": [],
      "authorship_tag": "ABX9TyOncNfTwMpdV3ZRb2reTaWd",
      "include_colab_link": true
    },
    "kernelspec": {
      "name": "python3",
      "display_name": "Python 3"
    },
    "language_info": {
      "name": "python"
    }
  },
  "cells": [
    {
      "cell_type": "markdown",
      "metadata": {
        "id": "view-in-github",
        "colab_type": "text"
      },
      "source": [
        "<a href=\"https://colab.research.google.com/github/priyanshigarg17/datascience/blob/main/pythonclass.ipynb\" target=\"_parent\"><img src=\"https://colab.research.google.com/assets/colab-badge.svg\" alt=\"Open In Colab\"/></a>"
      ]
    },
    {
      "cell_type": "code",
      "execution_count": null,
      "metadata": {
        "colab": {
          "base_uri": "https://localhost:8080/"
        },
        "id": "_kI-RwhHY9eh",
        "outputId": "3e950c11-342f-4521-f1ea-f2bb6512c7b8"
      },
      "outputs": [
        {
          "output_type": "stream",
          "name": "stdout",
          "text": [
            "hello\n"
          ]
        }
      ],
      "source": [
        "if(True):\n",
        "  print(\"hello\")"
      ]
    },
    {
      "cell_type": "code",
      "source": [
        "age=1\n",
        "if(age>10):\n",
        "  print('my age is less than 1')\n",
        "else:\n",
        "  print('hhy')"
      ],
      "metadata": {
        "colab": {
          "base_uri": "https://localhost:8080/"
        },
        "id": "24XeNDrLaF6l",
        "outputId": "063b8aba-23ab-4ae7-cfcb-c96cabf73a69"
      },
      "execution_count": null,
      "outputs": [
        {
          "output_type": "stream",
          "name": "stdout",
          "text": [
            "hhy\n"
          ]
        }
      ]
    },
    {
      "cell_type": "code",
      "source": [
        "age=21\n",
        "if(age>5 and age<20):\n",
        "  print('regex')\n",
        "else:\n",
        "  print('priyanshi')"
      ],
      "metadata": {
        "colab": {
          "base_uri": "https://localhost:8080/"
        },
        "id": "A-nM7WambFjh",
        "outputId": "d23c1911-0936-4843-ef6f-31961667c5f1"
      },
      "execution_count": null,
      "outputs": [
        {
          "output_type": "stream",
          "name": "stdout",
          "text": [
            "priyanshi\n"
          ]
        }
      ]
    },
    {
      "cell_type": "code",
      "source": [
        "num=6\n",
        "if(num%2==0 and num%5==0):\n",
        "  print('number is divisible by 5')\n",
        "else:\n",
        "  ('number is not divisible by 5')"
      ],
      "metadata": {
        "id": "EHqh3m7mbSUA"
      },
      "execution_count": null,
      "outputs": []
    },
    {
      "cell_type": "code",
      "source": [
        "age=16\n",
        "if(age==16):\n",
        "  print(\"age is 16\")\n",
        "elif(age==18):\n",
        "  print('age is 18')\n",
        "else:\n",
        "  print('age is not 18 or 16')"
      ],
      "metadata": {
        "colab": {
          "base_uri": "https://localhost:8080/"
        },
        "id": "htxN6uZmcr9a",
        "outputId": "7b2c9fff-8654-4fd0-cec7-1f50e6d069e0"
      },
      "execution_count": null,
      "outputs": [
        {
          "output_type": "stream",
          "name": "stdout",
          "text": [
            "age is 16\n"
          ]
        }
      ]
    },
    {
      "cell_type": "code",
      "source": [
        "num=10\n",
        "if(num%2==0):\n",
        "  print('number is divided by 2')\n",
        "elif(num%5==0):\n",
        "  print('number is divided by 5')\n",
        "else:\n",
        "  print('number is not divided by both')"
      ],
      "metadata": {
        "colab": {
          "base_uri": "https://localhost:8080/"
        },
        "id": "EVM_Rfiid3W8",
        "outputId": "3d921c6b-8eb3-40bc-c0e8-0668d7535d05"
      },
      "execution_count": null,
      "outputs": [
        {
          "output_type": "stream",
          "name": "stdout",
          "text": [
            "number is divided by 2\n"
          ]
        }
      ]
    },
    {
      "cell_type": "code",
      "source": [
        "num=4\n",
        "num2= 3\n",
        "num3 =1\n",
        "if(num<num2 and num<num3):\n",
        "  print('num is smallest')\n",
        "elif(num2<num and num2<num3):\n",
        "  print('num2 is smallest')\n",
        "else:\n",
        "  print('num3 is smallest')\n"
      ],
      "metadata": {
        "colab": {
          "base_uri": "https://localhost:8080/"
        },
        "id": "G1HW0gnDeOIX",
        "outputId": "bbf7d5e3-48a6-4996-952c-931d1f173843"
      },
      "execution_count": null,
      "outputs": [
        {
          "output_type": "stream",
          "name": "stdout",
          "text": [
            "num3 is smallest\n"
          ]
        }
      ]
    },
    {
      "cell_type": "code",
      "source": [
        "age=55\n",
        "if(age>10 and age<24):\n",
        "  print('adult')\n",
        "elif(age>24 and age<35):\n",
        "  print('young')\n",
        "elif(age>35 and age<60):\n",
        "  print('married')\n",
        "elif(age>60):\n",
        "  print('senior citizen')\n",
        "else:\n",
        "  print('child')"
      ],
      "metadata": {
        "colab": {
          "base_uri": "https://localhost:8080/"
        },
        "id": "TNivoPmrgT3L",
        "outputId": "7a3c90ed-1e81-4b6d-b17e-dad7b284e721"
      },
      "execution_count": null,
      "outputs": [
        {
          "output_type": "stream",
          "name": "stdout",
          "text": [
            "married\n"
          ]
        }
      ]
    },
    {
      "cell_type": "code",
      "source": [
        "age=55\n",
        "if(age>60):\n",
        "  print('senior citizen')\n",
        "elif(age>35):\n",
        "  print('married')\n",
        "elif(age>24):\n",
        "  print('young')\n",
        "elif(age>10):\n",
        "  print('adult')\n",
        "else:\n",
        "  print('child')"
      ],
      "metadata": {
        "colab": {
          "base_uri": "https://localhost:8080/"
        },
        "id": "yUr7NraniMuz",
        "outputId": "50ba3e2b-e610-4620-dc84-1a25947003c3"
      },
      "execution_count": null,
      "outputs": [
        {
          "output_type": "stream",
          "name": "stdout",
          "text": [
            "married\n"
          ]
        }
      ]
    },
    {
      "cell_type": "code",
      "source": [
        "age=12\n",
        "if(age>10):\n",
        "  print('age is greater than 10')\n",
        "  if(age>15):\n",
        "   print('age is greater than 10 and 15')\n",
        "else:\n",
        "  print('age is smaller than 10')"
      ],
      "metadata": {
        "colab": {
          "base_uri": "https://localhost:8080/"
        },
        "id": "U-_spk5ZkqB9",
        "outputId": "9b533d6f-4098-4153-8f66-39cf3585371f"
      },
      "execution_count": null,
      "outputs": [
        {
          "output_type": "stream",
          "name": "stdout",
          "text": [
            "age is greater than 10\n"
          ]
        }
      ]
    },
    {
      "cell_type": "code",
      "source": [
        "num=16\n",
        "if(num%2==0):\n",
        "  if(num%5==0):\n",
        "    print('number is divided by 2 and 5')\n",
        "  else:\n",
        "      print('number is divided by 2')\n",
        "else:\n",
        "  print('not divided by both')"
      ],
      "metadata": {
        "colab": {
          "base_uri": "https://localhost:8080/"
        },
        "id": "eXlBSDh5ltBI",
        "outputId": "3dc640da-c397-4bec-adf5-7eef49d402b2"
      },
      "execution_count": null,
      "outputs": [
        {
          "output_type": "stream",
          "name": "stdout",
          "text": [
            "number is divided by 2\n"
          ]
        }
      ]
    },
    {
      "cell_type": "code",
      "source": [
        "age=30\n",
        "if(age>18):\n",
        "  if(age>25):\n",
        "    print('he is eligible for marriage and voting')\n",
        "  else:\n",
        "      print('eligible for voting')\n",
        "else:\n",
        "  print('condition not satisfied')"
      ],
      "metadata": {
        "colab": {
          "base_uri": "https://localhost:8080/"
        },
        "id": "6JWz5FEMnc2Y",
        "outputId": "5437f9ef-3994-40b1-a3dc-588d41b5fd3b"
      },
      "execution_count": null,
      "outputs": [
        {
          "output_type": "stream",
          "name": "stdout",
          "text": [
            "he is eligible for marriage and voting\n"
          ]
        }
      ]
    },
    {
      "cell_type": "code",
      "source": [
        "num=int(input('n='))\n",
        "if (num % 2 == 0):\n",
        "    print(\"n is even.\")\n",
        "else:\n",
        "    print(\"n is odd.\")"
      ],
      "metadata": {
        "id": "c2U10GSvpT3Z",
        "colab": {
          "base_uri": "https://localhost:8080/"
        },
        "outputId": "daa92e6e-1686-4bb5-ad05-905bbd40e703"
      },
      "execution_count": null,
      "outputs": [
        {
          "output_type": "stream",
          "name": "stdout",
          "text": [
            "n=4\n",
            "n is even.\n"
          ]
        }
      ]
    },
    {
      "cell_type": "code",
      "source": [
        "num=int(input('number 1='))\n",
        "num2=int(input('number 2='))\n",
        "num3=int(input('number 3='))\n",
        "if(num>num2 and num>num3):\n",
        "  print('num is largest')\n",
        "elif(num2>num and num2>num3):\n",
        "  print(\"num2 is largest\")\n",
        "else:\n",
        "  print(\"num3 is largest\")"
      ],
      "metadata": {
        "colab": {
          "base_uri": "https://localhost:8080/"
        },
        "id": "O8zJWjXjQ7ka",
        "outputId": "5d1c49a7-7220-4d79-8c14-d00dc85b9d74"
      },
      "execution_count": null,
      "outputs": [
        {
          "output_type": "stream",
          "name": "stdout",
          "text": [
            "number 1=5\n",
            "number 2=3\n",
            "number 3=7\n",
            "num3 is largest\n"
          ]
        }
      ]
    },
    {
      "cell_type": "code",
      "source": [
        "year = 2098\n",
        "if(year%4==0 and year%100!=0) or (year%400==0):\n",
        "  print(\"year is leap year\")\n",
        "else:\n",
        "  print(\"year is not leap year\")\n"
      ],
      "metadata": {
        "colab": {
          "base_uri": "https://localhost:8080/"
        },
        "id": "WG2NUQOfRvl6",
        "outputId": "95ef9b5e-5042-407d-f065-65720b6d6e20"
      },
      "execution_count": null,
      "outputs": [
        {
          "output_type": "stream",
          "name": "stdout",
          "text": [
            "year is not leap year\n"
          ]
        }
      ]
    },
    {
      "cell_type": "code",
      "source": [
        "num=int(input(\"percentage = \"))\n",
        "if(num>= 90):\n",
        "  print(\"grade a\")\n",
        "elif(num>=80 and num<=90):\n",
        "  print(\"grade b\")\n",
        "elif(num>=70 and num<=80):\n",
        "  print(\"grade c\")\n",
        "elif(num>=60 and num<=70):\n",
        "  print(\"grade d\")\n",
        "else:\n",
        "  print(\"grade f\")\n"
      ],
      "metadata": {
        "colab": {
          "base_uri": "https://localhost:8080/"
        },
        "id": "T3xfv1zcStS4",
        "outputId": "742fc80b-11d5-45a0-c083-adf7bcbccce8"
      },
      "execution_count": null,
      "outputs": [
        {
          "output_type": "stream",
          "name": "stdout",
          "text": [
            "percentage = 76\n",
            "grade c\n"
          ]
        }
      ]
    },
    {
      "cell_type": "code",
      "source": [
        "letter=input(\"enter a character: \")\n",
        "if(letter == 'a' or letter == 'e' or letter == 'i' or letter == 'o' or letter == 'u'):\n",
        "  print(\"letter is vowel\")\n",
        "else:\n",
        "  print(\"letter is consonant\")\n"
      ],
      "metadata": {
        "colab": {
          "base_uri": "https://localhost:8080/"
        },
        "id": "UcoWVgOqTv91",
        "outputId": "40a7e8ab-ab5d-49ba-f01e-298bf0c83313"
      },
      "execution_count": null,
      "outputs": [
        {
          "output_type": "stream",
          "name": "stdout",
          "text": [
            "enter a character: r\n",
            "letter is consonant\n"
          ]
        }
      ]
    },
    {
      "cell_type": "code",
      "source": [
        "num1 = float(input(\"Enter the first number: \"))\n",
        "operator = input(\"Enter an operator: \")\n",
        "num2 = float(input(\"Enter the second number: \"))\n",
        "if(operator == '+'):\n",
        "    result = num1 + num2\n",
        "    print(f\"{result}\")\n",
        "elif(operator == '-'):\n",
        "    result = num1 - num2\n",
        "    print(f\"{result}\")\n",
        "elif(operator == '*'):\n",
        "    result = num1 * num2\n",
        "    print(f\"{result}\")\n",
        "elif operator == '/':\n",
        "    if num2 != 0:\n",
        "        result = num1 / num2\n",
        "        print(f\"{result}\")\n",
        "    else:\n",
        "        print(\"error\")\n",
        "else:\n",
        "    print(\"not supported\")"
      ],
      "metadata": {
        "colab": {
          "base_uri": "https://localhost:8080/"
        },
        "id": "cZregsw_VBEK",
        "outputId": "f9ec07da-343a-4e30-ffe6-ab390c561952"
      },
      "execution_count": null,
      "outputs": [
        {
          "output_type": "stream",
          "name": "stdout",
          "text": [
            "Enter the first number: 8\n",
            "Enter an operator: -\n",
            "Enter the second number: 6\n",
            "2.0\n"
          ]
        }
      ]
    },
    {
      "cell_type": "code",
      "source": [
        "number=int(input(\"enter a number: \"))\n",
        "if(number>0):\n",
        "    print(\"The number is positive.\")\n",
        "elif(number<0):\n",
        "    print(\"The number is negative.\")\n",
        "else:\n",
        "    print(\"The number is zero.\")"
      ],
      "metadata": {
        "colab": {
          "base_uri": "https://localhost:8080/"
        },
        "id": "JfHrcz8NWWah",
        "outputId": "1408e9e4-b802-4b7e-9e0c-3b59c1ac0fc2"
      },
      "execution_count": null,
      "outputs": [
        {
          "output_type": "stream",
          "name": "stdout",
          "text": [
            "enter a number: 5\n",
            "The number is positive.\n"
          ]
        }
      ]
    },
    {
      "cell_type": "code",
      "source": [
        "price=int(input(\"enter a price: \"))\n",
        "if(price>1000):\n",
        "  print(\"discount is 10%\")\n",
        "elif(price>500 and price<1000):\n",
        "  print(\"discount is 5%\")\n",
        "else:\n",
        "  print(\"no discount\")"
      ],
      "metadata": {
        "colab": {
          "base_uri": "https://localhost:8080/"
        },
        "id": "6Tj6mGt6XJNJ",
        "outputId": "4caca1a4-87f3-46f1-f0ce-271e074c58e7"
      },
      "execution_count": null,
      "outputs": [
        {
          "output_type": "stream",
          "name": "stdout",
          "text": [
            "enter a price: 4589\n",
            "discount is 10%\n"
          ]
        }
      ]
    },
    {
      "cell_type": "code",
      "source": [
        "username = input(\"write a username: \")\n",
        "password = int(input(\"enter a password: \"))\n",
        "if(username==\"admin\" and password==\"1234\"):\n",
        "  print(\"login successful\")\n",
        "else:\n",
        "  print(\"login failed\")"
      ],
      "metadata": {
        "colab": {
          "base_uri": "https://localhost:8080/"
        },
        "id": "Z44aPIS6YbmE",
        "outputId": "d6383cd5-e2e8-4380-9298-850f52ed45d5"
      },
      "execution_count": null,
      "outputs": [
        {
          "output_type": "stream",
          "name": "stdout",
          "text": [
            "write a username: admin\n",
            "enter a password: 1234\n",
            "login failed\n"
          ]
        }
      ]
    },
    {
      "cell_type": "code",
      "source": [
        "for i in range(0,5):\n",
        "  print(\"hello\")"
      ],
      "metadata": {
        "colab": {
          "base_uri": "https://localhost:8080/"
        },
        "id": "O1NUpVfAjHUH",
        "outputId": "db5d9ad2-eb41-47ce-d8e5-f76c601da0cb"
      },
      "execution_count": null,
      "outputs": [
        {
          "output_type": "stream",
          "name": "stdout",
          "text": [
            "hello\n",
            "hello\n",
            "hello\n",
            "hello\n",
            "hello\n"
          ]
        }
      ]
    },
    {
      "cell_type": "code",
      "source": [
        "for i in range(0,5):\n",
        "  print(\"hello\", i)"
      ],
      "metadata": {
        "colab": {
          "base_uri": "https://localhost:8080/"
        },
        "id": "zpYAxtq2lwjJ",
        "outputId": "7dfa2d04-99b9-45a1-b774-3464aa871492"
      },
      "execution_count": null,
      "outputs": [
        {
          "output_type": "stream",
          "name": "stdout",
          "text": [
            "hello 0\n",
            "hello 1\n",
            "hello 2\n",
            "hello 3\n",
            "hello 4\n"
          ]
        }
      ]
    },
    {
      "cell_type": "code",
      "source": [
        "for i in range(2,6):\n",
        "  print(\"hello\", i)"
      ],
      "metadata": {
        "colab": {
          "base_uri": "https://localhost:8080/"
        },
        "id": "F6gWl194mKmS",
        "outputId": "792472cb-ddb8-4493-fada-eee9a1d9ea90"
      },
      "execution_count": null,
      "outputs": [
        {
          "output_type": "stream",
          "name": "stdout",
          "text": [
            "hello 2\n",
            "hello 3\n",
            "hello 4\n",
            "hello 5\n"
          ]
        }
      ]
    },
    {
      "cell_type": "code",
      "source": [
        "for i in range(6,2, -1):\n",
        "  print(\"hello\", i)"
      ],
      "metadata": {
        "colab": {
          "base_uri": "https://localhost:8080/"
        },
        "id": "R8Yi2kvemTjA",
        "outputId": "c96883e6-558d-4f0a-fd36-e80e07ed2840"
      },
      "execution_count": null,
      "outputs": [
        {
          "output_type": "stream",
          "name": "stdout",
          "text": [
            "hello 6\n",
            "hello 5\n",
            "hello 4\n",
            "hello 3\n"
          ]
        }
      ]
    },
    {
      "cell_type": "code",
      "source": [
        " total=0\n",
        "for i in range(1, 8):\n",
        "  total+=i\n",
        "  print(total, i)"
      ],
      "metadata": {
        "colab": {
          "base_uri": "https://localhost:8080/"
        },
        "id": "tnY1PHBjm_Dx",
        "outputId": "177287ff-5fc7-45d3-e91b-7c76a3d35d60"
      },
      "execution_count": null,
      "outputs": [
        {
          "output_type": "stream",
          "name": "stdout",
          "text": [
            "1 1\n",
            "3 2\n",
            "6 3\n",
            "10 4\n",
            "15 5\n",
            "21 6\n",
            "28 7\n"
          ]
        }
      ]
    },
    {
      "cell_type": "code",
      "source": [
        "total=0\n",
        "for i in range(11, 50):\n",
        "  total+=i\n",
        "  print(total)"
      ],
      "metadata": {
        "colab": {
          "base_uri": "https://localhost:8080/"
        },
        "id": "YEJZyh36nzJ5",
        "outputId": "e09d9566-fade-44e9-e76a-946e78f8868d"
      },
      "execution_count": null,
      "outputs": [
        {
          "output_type": "stream",
          "name": "stdout",
          "text": [
            "11\n",
            "23\n",
            "36\n",
            "50\n",
            "65\n",
            "81\n",
            "98\n",
            "116\n",
            "135\n",
            "155\n",
            "176\n",
            "198\n",
            "221\n",
            "245\n",
            "270\n",
            "296\n",
            "323\n",
            "351\n",
            "380\n",
            "410\n",
            "441\n",
            "473\n",
            "506\n",
            "540\n",
            "575\n",
            "611\n",
            "648\n",
            "686\n",
            "725\n",
            "765\n",
            "806\n",
            "848\n",
            "891\n",
            "935\n",
            "980\n",
            "1026\n",
            "1073\n",
            "1121\n",
            "1170\n"
          ]
        }
      ]
    },
    {
      "cell_type": "code",
      "source": [
        "total=0\n",
        "for i in range(97, 47, -1):\n",
        "  total+=i\n",
        "print(total)"
      ],
      "metadata": {
        "colab": {
          "base_uri": "https://localhost:8080/"
        },
        "id": "vK9t3JLtoZXR",
        "outputId": "88798eba-ea7d-44a6-d5a5-d42f65e517f6"
      },
      "execution_count": null,
      "outputs": [
        {
          "output_type": "stream",
          "name": "stdout",
          "text": [
            "3625\n"
          ]
        }
      ]
    },
    {
      "cell_type": "code",
      "source": [
        "for i in range(1, 8):\n",
        "  if(i%2==0):\n",
        "    print(\"even\", i)\n"
      ],
      "metadata": {
        "colab": {
          "base_uri": "https://localhost:8080/"
        },
        "id": "bgbed4MOorwY",
        "outputId": "c233f5c3-fda2-4cf9-fb8c-0068b19feeb9"
      },
      "execution_count": null,
      "outputs": [
        {
          "output_type": "stream",
          "name": "stdout",
          "text": [
            "even 2\n",
            "even 4\n",
            "even 6\n"
          ]
        }
      ]
    },
    {
      "cell_type": "code",
      "source": [
        "for i in range(55, 37, -1):\n",
        "  if(i%2==0 and i%5==0):\n",
        "    print(i)"
      ],
      "metadata": {
        "colab": {
          "base_uri": "https://localhost:8080/"
        },
        "id": "L7zLDnT_p8B6",
        "outputId": "2277220f-1da7-4b62-e29b-8404698ed789"
      },
      "execution_count": null,
      "outputs": [
        {
          "output_type": "stream",
          "name": "stdout",
          "text": [
            "50\n",
            "40\n"
          ]
        }
      ]
    },
    {
      "cell_type": "code",
      "source": [
        "count=0\n",
        "for i in range(2, 40):\n",
        "  if(i%4==0):\n",
        "    count+=1\n",
        "print(count)"
      ],
      "metadata": {
        "colab": {
          "base_uri": "https://localhost:8080/"
        },
        "id": "0ECrx56wqlt6",
        "outputId": "c02051a9-1374-44d8-9a67-0f1472095faa"
      },
      "execution_count": null,
      "outputs": [
        {
          "output_type": "stream",
          "name": "stdout",
          "text": [
            "9\n"
          ]
        }
      ]
    },
    {
      "cell_type": "code",
      "source": [
        "num=9\n",
        "#factors of number 8\n",
        "for i in range(1,10):\n",
        "  if(num%i==0):\n",
        "    print(i)"
      ],
      "metadata": {
        "id": "-FxrCch6r2PH",
        "colab": {
          "base_uri": "https://localhost:8080/"
        },
        "outputId": "4b322610-591b-4db0-9d74-7826786904b9"
      },
      "execution_count": null,
      "outputs": [
        {
          "output_type": "stream",
          "name": "stdout",
          "text": [
            "1\n",
            "3\n",
            "9\n"
          ]
        }
      ]
    },
    {
      "cell_type": "code",
      "source": [
        "num=16\n",
        "#factors of number 16\n",
        "factors=0\n",
        "for i in range(1,17):\n",
        "  if(num%i==0):\n",
        "    factors+=1\n",
        "if(factors>4):\n",
        "  print(\"yes\")\n",
        "else:\n",
        "  print(\"no\")"
      ],
      "metadata": {
        "colab": {
          "base_uri": "https://localhost:8080/"
        },
        "id": "lMukww_7m-Y3",
        "outputId": "02971f4a-40a3-467b-dcf3-1924f8bd071c"
      },
      "execution_count": null,
      "outputs": [
        {
          "output_type": "stream",
          "name": "stdout",
          "text": [
            "yes\n"
          ]
        }
      ]
    },
    {
      "cell_type": "code",
      "source": [
        "data=\"hey\"\n",
        "for i in range(0, 3):\n",
        "  print(i, data[i])"
      ],
      "metadata": {
        "colab": {
          "base_uri": "https://localhost:8080/"
        },
        "id": "LNyqgn4JoxeT",
        "outputId": "d2a9ee07-10b1-4cf4-d747-12f1b1ab3229"
      },
      "execution_count": null,
      "outputs": [
        {
          "output_type": "stream",
          "name": "stdout",
          "text": [
            "0 h\n",
            "1 e\n",
            "2 y\n"
          ]
        }
      ]
    },
    {
      "cell_type": "code",
      "source": [
        "data=\"hello\" #data[]\n",
        "#len= length of data\n",
        "for i in range(0, len(data)):\n",
        "  print(data[i])"
      ],
      "metadata": {
        "colab": {
          "base_uri": "https://localhost:8080/"
        },
        "id": "ENqxgoF1qUbe",
        "outputId": "fba702a3-2bf1-45e0-804b-39984275b849"
      },
      "execution_count": null,
      "outputs": [
        {
          "output_type": "stream",
          "name": "stdout",
          "text": [
            "h\n",
            "e\n",
            "l\n",
            "l\n",
            "o\n"
          ]
        }
      ]
    },
    {
      "cell_type": "code",
      "source": [
        "data=\"hello\" #data[]\n",
        "count=0\n",
        "#len= length of data\n",
        "for i in range(0, len(data)):\n",
        "  if(data[i]==\"a\" or data[i]==\"e\" or data[i]==\"i\" or data[i]==\"o\" or data[i]==\"u\"):\n",
        "    count+=1\n",
        "print(count)"
      ],
      "metadata": {
        "colab": {
          "base_uri": "https://localhost:8080/"
        },
        "id": "zJMwajLRqzbQ",
        "outputId": "b12ef8bb-3558-4f87-edbc-8923b7fb3c81"
      },
      "execution_count": null,
      "outputs": [
        {
          "output_type": "stream",
          "name": "stdout",
          "text": [
            "2\n"
          ]
        }
      ]
    },
    {
      "cell_type": "code",
      "source": [
        "data=\"hello\" #data[]\n",
        "count=0\n",
        "#len= length of data\n",
        "for i in range(0, len(data)):\n",
        "  #membership operator\n",
        "  if(data[i] in \"aeiou\"):\n",
        "    count+=1\n",
        "print(count)"
      ],
      "metadata": {
        "colab": {
          "base_uri": "https://localhost:8080/"
        },
        "id": "Jx5DP5SjrxJl",
        "outputId": "31b2e859-51c5-44a6-cb45-c13b4e661c26"
      },
      "execution_count": null,
      "outputs": [
        {
          "output_type": "stream",
          "name": "stdout",
          "text": [
            "2\n"
          ]
        }
      ]
    },
    {
      "cell_type": "code",
      "source": [
        "#7"
      ],
      "metadata": {
        "id": "kCR4UXTstOfX"
      },
      "execution_count": null,
      "outputs": []
    },
    {
      "cell_type": "code",
      "source": [
        "#to check number is prime number\n",
        "num=8\n",
        "factors=0\n",
        "for i in range(1,9):\n",
        "  if(num%i==0):\n",
        "    factors+=1\n",
        "if(factors>2):\n",
        "  print(\"no prime number\")\n",
        "else:\n",
        "  print(\"yes\")\n"
      ],
      "metadata": {
        "colab": {
          "base_uri": "https://localhost:8080/"
        },
        "id": "ELQ4gkpFtW7q",
        "outputId": "439818b6-7ceb-4307-982b-2858d9c00072"
      },
      "execution_count": null,
      "outputs": [
        {
          "output_type": "stream",
          "name": "stdout",
          "text": [
            "no prime number\n"
          ]
        }
      ]
    },
    {
      "cell_type": "code",
      "source": [
        "#alternate of above solution\n",
        "num=7\n",
        "factors=0\n",
        "for i in range(1,num+1):\n",
        "  if(num%i==0):\n",
        "    factors+=1\n",
        "if(factors>2):\n",
        "  print(\"no prime number\")\n",
        "else:\n",
        "  print(\"yes\")\n"
      ],
      "metadata": {
        "colab": {
          "base_uri": "https://localhost:8080/"
        },
        "id": "MNFIT4onti-I",
        "outputId": "d0610173-70a0-4932-8564-efed4d88102d"
      },
      "execution_count": null,
      "outputs": [
        {
          "output_type": "stream",
          "name": "stdout",
          "text": [
            "yes\n"
          ]
        }
      ]
    },
    {
      "cell_type": "code",
      "source": [
        "# 2 alternate of above solution\n",
        "#break\n",
        "for i in range(1,6):\n",
        "  print(i)\n",
        "  break\n",
        "print(\"outside loop\")"
      ],
      "metadata": {
        "colab": {
          "base_uri": "https://localhost:8080/"
        },
        "id": "9SWyhlxIuVJN",
        "outputId": "a7c399bd-ed46-4456-830d-b6f89b4fef18"
      },
      "execution_count": null,
      "outputs": [
        {
          "output_type": "stream",
          "name": "stdout",
          "text": [
            "1\n",
            "outside loop\n"
          ]
        }
      ]
    },
    {
      "cell_type": "code",
      "source": [
        "for i in range(1,6):\n",
        "  if(i==4):\n",
        "     break\n",
        "  print(i)\n",
        "\n",
        "print(\"outside loop\")"
      ],
      "metadata": {
        "colab": {
          "base_uri": "https://localhost:8080/"
        },
        "id": "kvxm3C4AvPRf",
        "outputId": "748aaf47-24a8-4bcf-f324-adeccbd2caf8"
      },
      "execution_count": null,
      "outputs": [
        {
          "output_type": "stream",
          "name": "stdout",
          "text": [
            "1\n",
            "2\n",
            "3\n",
            "outside loop\n"
          ]
        }
      ]
    },
    {
      "cell_type": "code",
      "source": [
        "# prime number with break\n",
        "num=13\n",
        "a=0  #indicator variable to check the condition is true or not\n",
        "for i in range(2, num):\n",
        "  if(num%i==0):\n",
        "    a=1\n",
        "    break\n",
        "\n",
        "if(a==1):\n",
        "  print(\"not prime\")\n",
        "else:\n",
        "  print(\"prime\")\n",
        "\n"
      ],
      "metadata": {
        "id": "wil7Ao12va43"
      },
      "execution_count": null,
      "outputs": []
    },
    {
      "cell_type": "code",
      "source": [
        "num=8\n",
        "if(num%2==0 and num%3==0 and num%6==0):\n",
        "  print(\"true\")\n",
        "else:\n",
        "  print(\"false\")"
      ],
      "metadata": {
        "colab": {
          "base_uri": "https://localhost:8080/"
        },
        "id": "ek9IIBfQwR7s",
        "outputId": "b4c1621a-6783-4b73-a89b-547c6725278f"
      },
      "execution_count": null,
      "outputs": [
        {
          "output_type": "stream",
          "name": "stdout",
          "text": [
            "false\n"
          ]
        }
      ]
    },
    {
      "cell_type": "code",
      "source": [
        "num=9\n",
        "a=0  #indicator variable to check the condition is true or not\n",
        "if(num%2==0 and num%3==0 and num%6==0):\n",
        "    a=1\n",
        "if(a==1):\n",
        "  print(\"true\")\n",
        "else:\n",
        "  print(\"false\")"
      ],
      "metadata": {
        "colab": {
          "base_uri": "https://localhost:8080/"
        },
        "id": "sGkpgQls0QxQ",
        "outputId": "5ba5ee0a-df9d-4e3a-fbba-8e853a0b0795"
      },
      "execution_count": null,
      "outputs": [
        {
          "output_type": "stream",
          "name": "stdout",
          "text": [
            "false\n"
          ]
        }
      ]
    },
    {
      "cell_type": "code",
      "source": [
        "marks=int(input(\"enter marks\"))\n",
        "if(marks>=90):\n",
        "    print(\"Grade A\")\n",
        "elif(80 < marks < 89):\n",
        "    print(\"B\")\n",
        "elif(70 < marks < 79):\n",
        "    print(\"c\")\n",
        "elif(60 < marks < 69):\n",
        "    print(\"d\")\n",
        "elif(marks<60):\n",
        "    print(\"Fail\")\n",
        "else:\n",
        "    (\"error\")\n",
        "\n"
      ],
      "metadata": {
        "id": "B3cPnc-_1DaL",
        "colab": {
          "base_uri": "https://localhost:8080/"
        },
        "outputId": "13a8f011-b4ad-4e09-8312-c2f05f346498"
      },
      "execution_count": null,
      "outputs": [
        {
          "output_type": "stream",
          "name": "stdout",
          "text": [
            "enter marks56\n",
            "Fail\n"
          ]
        }
      ]
    },
    {
      "cell_type": "code",
      "source": [
        "A=int(input(\"enter a \"))\n",
        "B=int(input(\"enter b \"))\n",
        "C=int(input(\"enter c \"))\n",
        "if(A==B==C):\n",
        "  print(\"equilateral\")\n",
        "elif(A==B or B==C or C==A):\n",
        "  print(\"Isoceles\")\n",
        "elif(A!=B!=C):\n",
        "  print(\"Scalene\")\n",
        "elif(A+B<C or A+C<B or B+C<A):\n",
        "  print(\"Not a triangle\")"
      ],
      "metadata": {
        "id": "_TLTsr26tOCp"
      },
      "execution_count": null,
      "outputs": []
    },
    {
      "cell_type": "code",
      "source": [
        "# prime number with break\n",
        "num=8\n",
        "a=0  #indicator variable to check the condition is true or not\n",
        "for i in range(2, num):\n",
        "  if(num%i==0):\n",
        "    a=1\n",
        "    break\n",
        "\n",
        "if(a==1):\n",
        "  print(\"not prime\")\n",
        "else:\n",
        "  print(\"prime\")\n"
      ],
      "metadata": {
        "id": "9zCx1BHhvIYK",
        "colab": {
          "base_uri": "https://localhost:8080/"
        },
        "outputId": "163dbabd-6233-4071-855c-d318f79e2990"
      },
      "execution_count": null,
      "outputs": [
        {
          "output_type": "stream",
          "name": "stdout",
          "text": [
            "not prime\n"
          ]
        }
      ]
    },
    {
      "cell_type": "code",
      "source": [
        "#factors and prime number from this method\n",
        "num=8\n",
        "count=0 #count\n",
        "for i in range(1, num+1):\n",
        "  if(num%i==0):\n",
        "    count+=1\n",
        "print(count)\n",
        "if(count>2):\n",
        "  print(\"not a prime\")\n",
        "else:\n",
        "  print(\"prime\")"
      ],
      "metadata": {
        "colab": {
          "base_uri": "https://localhost:8080/"
        },
        "id": "PASvj6ZaDaf1",
        "outputId": "3c520672-19b6-4676-d26c-0ab505382e73"
      },
      "execution_count": null,
      "outputs": [
        {
          "output_type": "stream",
          "name": "stdout",
          "text": [
            "4\n",
            "not a prime\n"
          ]
        }
      ]
    },
    {
      "cell_type": "code",
      "source": [
        "#while loop ---> repetitive\n",
        "# iteration (x)\n",
        "'''\n",
        "for i in range(1,11)\n",
        "\n",
        "i=1\n",
        "while(conditions <==true):\n",
        "  statement\n",
        "\n",
        "'''"
      ],
      "metadata": {
        "id": "CK6ZqYbuDczx"
      },
      "execution_count": null,
      "outputs": []
    },
    {
      "cell_type": "code",
      "source": [
        "i=1\n",
        "while(i<11):\n",
        "  print(i)\n",
        "  i+=1"
      ],
      "metadata": {
        "colab": {
          "base_uri": "https://localhost:8080/"
        },
        "id": "HC3ZYA5mEv2i",
        "outputId": "f12eeef3-ca11-4fcb-dcca-89146a932a75"
      },
      "execution_count": null,
      "outputs": [
        {
          "output_type": "stream",
          "name": "stdout",
          "text": [
            "1\n",
            "2\n",
            "3\n",
            "4\n",
            "5\n",
            "6\n",
            "7\n",
            "8\n",
            "9\n",
            "10\n"
          ]
        }
      ]
    },
    {
      "cell_type": "code",
      "source": [
        "#sum of numbers 2 to n where n is 11\n",
        "i=2\n",
        "sum=0\n",
        "while(i<11):\n",
        "  sum+=i\n",
        "  i+=1\n",
        "print(sum)"
      ],
      "metadata": {
        "colab": {
          "base_uri": "https://localhost:8080/"
        },
        "id": "Mplv2lY2FfqQ",
        "outputId": "e7d5a7a1-06ec-414a-dff1-bd9c26312d48"
      },
      "execution_count": null,
      "outputs": [
        {
          "output_type": "stream",
          "name": "stdout",
          "text": [
            "54\n"
          ]
        }
      ]
    },
    {
      "cell_type": "code",
      "source": [
        "#sum of reverse numbers and odd numbers\n",
        "i=98\n",
        "sum=0\n",
        "while(i>57):\n",
        "  if(i%2!=0):\n",
        "    sum+=i\n",
        "  i-=1\n",
        "print(sum)"
      ],
      "metadata": {
        "colab": {
          "base_uri": "https://localhost:8080/"
        },
        "id": "Lp6Lw4AlFrQh",
        "outputId": "da626786-4d9c-4508-8e3f-2e6d6fcb56aa"
      },
      "execution_count": null,
      "outputs": [
        {
          "output_type": "stream",
          "name": "stdout",
          "text": [
            "1560\n"
          ]
        }
      ]
    },
    {
      "cell_type": "code",
      "source": [
        "i=2\n",
        "sum=0\n",
        "count=0\n",
        "average=1\n",
        "while(i<441):\n",
        "  count+=1\n",
        "  sum+=i\n",
        "  i+=1\n",
        "print(sum)\n",
        "print(count)\n",
        "average=sum//count\n",
        "print(average)"
      ],
      "metadata": {
        "colab": {
          "base_uri": "https://localhost:8080/"
        },
        "id": "bY55-q5JGiAf",
        "outputId": "a6e6134f-c11d-45d6-fd4a-7a116a1a37d8"
      },
      "execution_count": null,
      "outputs": [
        {
          "output_type": "stream",
          "name": "stdout",
          "text": [
            "97019\n",
            "439\n",
            "221\n"
          ]
        }
      ]
    },
    {
      "cell_type": "code",
      "source": [
        "#break, continue, and pass\n",
        "for i in range(1,5):\n",
        "  if(i==3):\n",
        "    break\n",
        "  print(i)\n",
        "\n",
        "print(\"outside loop\")"
      ],
      "metadata": {
        "colab": {
          "base_uri": "https://localhost:8080/"
        },
        "id": "6Q9pVPc0HVNV",
        "outputId": "7c7b9396-b666-45fe-8e98-b5b47f3d8ba8"
      },
      "execution_count": null,
      "outputs": [
        {
          "output_type": "stream",
          "name": "stdout",
          "text": [
            "1\n",
            "2\n",
            "outside loop\n"
          ]
        }
      ]
    },
    {
      "cell_type": "code",
      "source": [
        "#break, continue, and pass\n",
        "for i in range(1,5):\n",
        "  if(i==3):\n",
        "    continue\n",
        "  print(i)\n",
        "\n",
        "print(\"outside loop\")\n",
        "#continue= is to skip that particular task like here is 3"
      ],
      "metadata": {
        "colab": {
          "base_uri": "https://localhost:8080/"
        },
        "id": "RPTTaVpoIyTi",
        "outputId": "a1bba0a2-61ab-46c4-f877-e209fa9e3b97"
      },
      "execution_count": null,
      "outputs": [
        {
          "output_type": "stream",
          "name": "stdout",
          "text": [
            "1\n",
            "2\n",
            "4\n",
            "outside loop\n"
          ]
        }
      ]
    },
    {
      "cell_type": "code",
      "source": [
        "sum=0\n",
        "for i in range(40, 97):\n",
        "  if(i%2!=0 and i%3!=0):\n",
        "    sum+=i\n",
        "print(sum)\n",
        "#wrongggg"
      ],
      "metadata": {
        "colab": {
          "base_uri": "https://localhost:8080/"
        },
        "id": "T2NN7Fd3JTtx",
        "outputId": "76ac5944-8089-4d17-a1de-0b4dd41a5782"
      },
      "execution_count": null,
      "outputs": [
        {
          "output_type": "stream",
          "name": "stdout",
          "text": [
            "1283\n"
          ]
        }
      ]
    },
    {
      "cell_type": "code",
      "source": [
        "sum=0\n",
        "for i in range(40, 97):\n",
        "  if(i%2==0 and i%3==0):\n",
        "    continue\n",
        "  sum+=i\n",
        "print(sum)"
      ],
      "metadata": {
        "colab": {
          "base_uri": "https://localhost:8080/"
        },
        "id": "_0KU2-4QKOZH",
        "outputId": "6e269570-c355-40a4-852f-d257deeded91"
      },
      "execution_count": null,
      "outputs": [
        {
          "output_type": "stream",
          "name": "stdout",
          "text": [
            "3186\n"
          ]
        }
      ]
    },
    {
      "cell_type": "code",
      "source": [
        "#run a while loop and count those value which are even and also divisibld by 6\n",
        "i=1\n",
        "while(i<101):\n",
        "  if(i%2==0 and i%6==0):\n",
        "    i+=1\n",
        "    print(i)"
      ],
      "metadata": {
        "id": "7WbXjhYGK3Dc"
      },
      "execution_count": null,
      "outputs": []
    },
    {
      "cell_type": "code",
      "source": [
        "#run a while loop and count those value which are even and also divisibld by 6\n",
        "i=1\n",
        "while(i<101):\n",
        "  if(i%2==0 and i%6==0):\n",
        "    print(i)\n",
        "  i+=1\n"
      ],
      "metadata": {
        "id": "0LtvxEjXMumB",
        "colab": {
          "base_uri": "https://localhost:8080/"
        },
        "outputId": "d6f7d79d-3301-4212-d1ec-c2275760ef68"
      },
      "execution_count": null,
      "outputs": [
        {
          "output_type": "stream",
          "name": "stdout",
          "text": [
            "6\n",
            "12\n",
            "18\n",
            "24\n",
            "30\n",
            "36\n",
            "42\n",
            "48\n",
            "54\n",
            "60\n",
            "66\n",
            "72\n",
            "78\n",
            "84\n",
            "90\n",
            "96\n"
          ]
        }
      ]
    },
    {
      "cell_type": "code",
      "source": [
        "i=1\n",
        "count=0\n",
        "while(i<101):\n",
        "  if(i%2==0 and i%6==0):\n",
        "    count+=1\n",
        "    print(count, i)\n",
        "  i+=1"
      ],
      "metadata": {
        "colab": {
          "base_uri": "https://localhost:8080/"
        },
        "id": "i6X9SPtPNwLX",
        "outputId": "92ac41f9-2934-4aa8-b533-8eb012558b73"
      },
      "execution_count": null,
      "outputs": [
        {
          "output_type": "stream",
          "name": "stdout",
          "text": [
            "1 6\n",
            "2 12\n",
            "3 18\n",
            "4 24\n",
            "5 30\n",
            "6 36\n",
            "7 42\n",
            "8 48\n",
            "9 54\n",
            "10 60\n",
            "11 66\n",
            "12 72\n",
            "13 78\n",
            "14 84\n",
            "15 90\n",
            "16 96\n"
          ]
        }
      ]
    },
    {
      "cell_type": "code",
      "source": [
        "num=8\n",
        "count=0 #count\n",
        "for i in range(1, num+1):\n",
        "  if(num%i==0):\n",
        "    count+=1\n",
        "print(count)\n",
        "if(count>2):\n",
        "  print(\"not a prime\")\n",
        "else:\n",
        "  print(\"prime\")"
      ],
      "metadata": {
        "colab": {
          "base_uri": "https://localhost:8080/"
        },
        "id": "7XkCiBJlOGcv",
        "outputId": "86bedb60-ce29-4339-8ba9-675608a8e391"
      },
      "execution_count": null,
      "outputs": [
        {
          "output_type": "stream",
          "name": "stdout",
          "text": [
            "4\n",
            "not a prime\n"
          ]
        }
      ]
    },
    {
      "cell_type": "code",
      "source": [
        "num=9\n",
        "i=1\n",
        "a=0\n",
        "while(i<4):\n",
        "  if(num%i==0):\n",
        "    a=1\n",
        "    break\n",
        "  i+=1\n",
        "if(a==1):\n",
        "  print(\"not prime\")\n",
        "else:\n",
        "  print(\"prime\")"
      ],
      "metadata": {
        "colab": {
          "base_uri": "https://localhost:8080/"
        },
        "id": "ed0QntI9PE-F",
        "outputId": "c2cb1851-fb6a-4550-da84-b0d20a82d9c7"
      },
      "execution_count": null,
      "outputs": [
        {
          "output_type": "stream",
          "name": "stdout",
          "text": [
            "not prime\n"
          ]
        }
      ]
    },
    {
      "cell_type": "code",
      "source": [
        "#Nested loops\n",
        "for i in range(1, 3):\n",
        "  print(\"----student\", i)\n",
        "\n",
        "  for j in range(1,4):\n",
        "    print(\"subject\", j)"
      ],
      "metadata": {
        "colab": {
          "base_uri": "https://localhost:8080/"
        },
        "id": "VsHp9A9EQbFq",
        "outputId": "ca02ab62-dba7-4f98-ee8e-58364561262b"
      },
      "execution_count": null,
      "outputs": [
        {
          "output_type": "stream",
          "name": "stdout",
          "text": [
            "----student 1\n",
            "subject 1\n",
            "subject 2\n",
            "subject 3\n",
            "----student 2\n",
            "subject 1\n",
            "subject 2\n",
            "subject 3\n"
          ]
        }
      ]
    },
    {
      "cell_type": "code",
      "source": [
        "#Nested loops -reverse\n",
        "for i in range(1, 3):\n",
        "  print(\"----student\", i)\n",
        "\n",
        "  for j in range(4,1,-1):\n",
        "    print(\"subject\", j)"
      ],
      "metadata": {
        "colab": {
          "base_uri": "https://localhost:8080/"
        },
        "id": "_iiXHAOWSSMF",
        "outputId": "af9d94c6-82bb-4875-9b69-127fc703f59d"
      },
      "execution_count": null,
      "outputs": [
        {
          "output_type": "stream",
          "name": "stdout",
          "text": [
            "----student 1\n",
            "subject 4\n",
            "subject 3\n",
            "subject 2\n",
            "----student 2\n",
            "subject 4\n",
            "subject 3\n",
            "subject 2\n"
          ]
        }
      ]
    },
    {
      "cell_type": "code",
      "source": [
        "#Nested loops --\n",
        "for i in range(1, 5):\n",
        "  print(\"----student\", i)\n",
        "\n",
        "  for j in range(1,i+1):\n",
        "    print(\"subject\", j)"
      ],
      "metadata": {
        "colab": {
          "base_uri": "https://localhost:8080/"
        },
        "id": "FjgbTIFUTZX2",
        "outputId": "888cba5d-26fe-433d-8ca5-56ff13b1bcf8"
      },
      "execution_count": null,
      "outputs": [
        {
          "output_type": "stream",
          "name": "stdout",
          "text": [
            "----student 1\n",
            "subject 1\n",
            "----student 2\n",
            "subject 1\n",
            "subject 2\n",
            "----student 3\n",
            "subject 1\n",
            "subject 2\n",
            "subject 3\n",
            "----student 4\n",
            "subject 1\n",
            "subject 2\n",
            "subject 3\n",
            "subject 4\n"
          ]
        }
      ]
    },
    {
      "cell_type": "code",
      "source": [
        "for i in range(1, 5):\n",
        "  print(\"----student\", i)\n",
        "\n",
        "  for j in range(i, 0, -1):\n",
        "    print(\"subject\", j)"
      ],
      "metadata": {
        "id": "1pfT3qVvUM9o",
        "colab": {
          "base_uri": "https://localhost:8080/"
        },
        "outputId": "1c482c19-e41d-419f-a2fb-9848173ac8f6"
      },
      "execution_count": null,
      "outputs": [
        {
          "output_type": "stream",
          "name": "stdout",
          "text": [
            "----student 1\n",
            "subject 1\n",
            "----student 2\n",
            "subject 2\n",
            "subject 1\n",
            "----student 3\n",
            "subject 3\n",
            "subject 2\n",
            "subject 1\n",
            "----student 4\n",
            "subject 4\n",
            "subject 3\n",
            "subject 2\n",
            "subject 1\n"
          ]
        }
      ]
    },
    {
      "cell_type": "code",
      "source": [
        "for i in range(1, 5):\n",
        "  print(\"----student\", i)\n",
        "\n",
        "  for j in range(i,5):\n",
        "    print(\"subject\", j)"
      ],
      "metadata": {
        "colab": {
          "base_uri": "https://localhost:8080/"
        },
        "id": "RJLQGbEDQfVU",
        "outputId": "f6f5b5a9-4a17-4ade-bb7b-3a8d41c5821d"
      },
      "execution_count": null,
      "outputs": [
        {
          "output_type": "stream",
          "name": "stdout",
          "text": [
            "----student 1\n",
            "subject 1\n",
            "subject 2\n",
            "subject 3\n",
            "subject 4\n",
            "----student 2\n",
            "subject 2\n",
            "subject 3\n",
            "subject 4\n",
            "----student 3\n",
            "subject 3\n",
            "subject 4\n",
            "----student 4\n",
            "subject 4\n"
          ]
        }
      ]
    },
    {
      "cell_type": "code",
      "source": [
        "for i in range(1, 5):\n",
        "  print(\"----student\", i)\n",
        "\n",
        "  for j in range(5,i,-1):\n",
        "    print(\"subject\", j)"
      ],
      "metadata": {
        "colab": {
          "base_uri": "https://localhost:8080/"
        },
        "id": "glw3aqmHRjFn",
        "outputId": "2265d7a0-66af-4160-9e20-8f06af630d30"
      },
      "execution_count": null,
      "outputs": [
        {
          "output_type": "stream",
          "name": "stdout",
          "text": [
            "----student 1\n",
            "subject 5\n",
            "subject 4\n",
            "subject 3\n",
            "subject 2\n",
            "----student 2\n",
            "subject 5\n",
            "subject 4\n",
            "subject 3\n",
            "----student 3\n",
            "subject 5\n",
            "subject 4\n",
            "----student 4\n",
            "subject 5\n"
          ]
        }
      ]
    },
    {
      "cell_type": "code",
      "source": [
        "#to print same subject value means starting from 1\n",
        "for i in range(1, 5):\n",
        "  print(\"----student\", i)\n",
        "\n",
        "  for j in range(1, 6-i):\n",
        "    print(\"subject\", j)"
      ],
      "metadata": {
        "colab": {
          "base_uri": "https://localhost:8080/"
        },
        "id": "bUVX-26aR03Q",
        "outputId": "4487d4ae-32fa-4d68-fbe0-9c446e018f71"
      },
      "execution_count": null,
      "outputs": [
        {
          "output_type": "stream",
          "name": "stdout",
          "text": [
            "----student 1\n",
            "subject 1\n",
            "subject 2\n",
            "subject 3\n",
            "subject 4\n",
            "----student 2\n",
            "subject 1\n",
            "subject 2\n",
            "subject 3\n",
            "----student 3\n",
            "subject 1\n",
            "subject 2\n",
            "----student 4\n",
            "subject 1\n"
          ]
        }
      ]
    },
    {
      "cell_type": "code",
      "source": [
        "for i in range(10,14):\n",
        "  print(\"---student\", i)\n",
        "\n",
        "  for j in range(1, 5):\n",
        "    print(\"subject\", j)"
      ],
      "metadata": {
        "colab": {
          "base_uri": "https://localhost:8080/"
        },
        "id": "PeV2PyTsSvEn",
        "outputId": "016c1a66-6abc-4f62-929e-c457736e4a5f"
      },
      "execution_count": null,
      "outputs": [
        {
          "output_type": "stream",
          "name": "stdout",
          "text": [
            "---student 10\n",
            "subject 1\n",
            "subject 2\n",
            "subject 3\n",
            "subject 4\n",
            "---student 11\n",
            "subject 1\n",
            "subject 2\n",
            "subject 3\n",
            "subject 4\n",
            "---student 12\n",
            "subject 1\n",
            "subject 2\n",
            "subject 3\n",
            "subject 4\n",
            "---student 13\n",
            "subject 1\n",
            "subject 2\n",
            "subject 3\n",
            "subject 4\n"
          ]
        }
      ]
    },
    {
      "cell_type": "code",
      "source": [
        "x=0\n",
        "for i in range(10,14):\n",
        "  print(\"---student\", i)\n",
        "\n",
        "  for j in range(1, 7-x):\n",
        "    print(\"subject\", j)\n",
        "  x+=2"
      ],
      "metadata": {
        "colab": {
          "base_uri": "https://localhost:8080/"
        },
        "id": "hxBLUxXQULDQ",
        "outputId": "f137baea-260d-420a-c0b8-28f8a013ac5a"
      },
      "execution_count": null,
      "outputs": [
        {
          "output_type": "stream",
          "name": "stdout",
          "text": [
            "---student 10\n",
            "subject 1\n",
            "subject 2\n",
            "subject 3\n",
            "subject 4\n",
            "subject 5\n",
            "subject 6\n",
            "---student 11\n",
            "subject 1\n",
            "subject 2\n",
            "subject 3\n",
            "subject 4\n",
            "---student 12\n",
            "subject 1\n",
            "subject 2\n",
            "---student 13\n"
          ]
        }
      ]
    },
    {
      "cell_type": "code",
      "source": [
        "#to print same subject value means starting from 1\n",
        "for i in range(1, 5):\n",
        "  print(\"----student\", i)\n",
        "\n",
        "  for j in range(1, 6-i):\n",
        "    print(\"subject\", j)"
      ],
      "metadata": {
        "colab": {
          "base_uri": "https://localhost:8080/"
        },
        "id": "mBMJCRgiU_Z7",
        "outputId": "daf6d054-bb26-4c51-a6c7-9d1d521a4a09"
      },
      "execution_count": null,
      "outputs": [
        {
          "output_type": "stream",
          "name": "stdout",
          "text": [
            "----student 1\n",
            "subject 1\n",
            "subject 2\n",
            "subject 3\n",
            "subject 4\n",
            "----student 2\n",
            "subject 1\n",
            "subject 2\n",
            "subject 3\n",
            "----student 3\n",
            "subject 1\n",
            "subject 2\n",
            "----student 4\n",
            "subject 1\n"
          ]
        }
      ]
    },
    {
      "cell_type": "code",
      "source": [
        "n=3\n",
        "for i in range(1, 11):\n",
        "  table=n*i\n",
        "  print(f\"{n}*{i}={table}\")"
      ],
      "metadata": {
        "colab": {
          "base_uri": "https://localhost:8080/"
        },
        "id": "bo-KTeYDVItf",
        "outputId": "d3bbcfd2-8771-4f59-9cdc-d79836934616"
      },
      "execution_count": null,
      "outputs": [
        {
          "output_type": "stream",
          "name": "stdout",
          "text": [
            "3*1=3\n",
            "3*2=6\n",
            "3*3=9\n",
            "3*4=12\n",
            "3*5=15\n",
            "3*6=18\n",
            "3*7=21\n",
            "3*8=24\n",
            "3*9=27\n",
            "3*10=30\n"
          ]
        }
      ]
    },
    {
      "cell_type": "code",
      "source": [
        "#print table from 2 to 5\n",
        "for n in range(2,5):\n",
        "  print(n)\n",
        "  for i in range(1, 11):\n",
        "    table=n*i\n",
        "    print(f\"{n}*{i}={table}\")"
      ],
      "metadata": {
        "colab": {
          "base_uri": "https://localhost:8080/"
        },
        "id": "HJr30EB0XSXq",
        "outputId": "a8bb8dd9-40d8-471d-bf94-1f0d7c1dea3c"
      },
      "execution_count": null,
      "outputs": [
        {
          "output_type": "stream",
          "name": "stdout",
          "text": [
            "2\n",
            "2*1=2\n",
            "2*2=4\n",
            "2*3=6\n",
            "2*4=8\n",
            "2*5=10\n",
            "2*6=12\n",
            "2*7=14\n",
            "2*8=16\n",
            "2*9=18\n",
            "2*10=20\n",
            "3\n",
            "3*1=3\n",
            "3*2=6\n",
            "3*3=9\n",
            "3*4=12\n",
            "3*5=15\n",
            "3*6=18\n",
            "3*7=21\n",
            "3*8=24\n",
            "3*9=27\n",
            "3*10=30\n",
            "4\n",
            "4*1=4\n",
            "4*2=8\n",
            "4*3=12\n",
            "4*4=16\n",
            "4*5=20\n",
            "4*6=24\n",
            "4*7=28\n",
            "4*8=32\n",
            "4*9=36\n",
            "4*10=40\n"
          ]
        }
      ]
    },
    {
      "cell_type": "code",
      "source": [
        "for n in range(2, 20):\n",
        "  print(\"---\", n)\n",
        "  for i in range(1, n+1):\n",
        "   if(n%i==0):\n",
        "    print(i)\n",
        "  print(\"----\")"
      ],
      "metadata": {
        "colab": {
          "base_uri": "https://localhost:8080/"
        },
        "id": "Bjn2-RNQYG2s",
        "outputId": "7e8495f8-3bd0-4fcb-a56c-ef06d1d349fd"
      },
      "execution_count": null,
      "outputs": [
        {
          "output_type": "stream",
          "name": "stdout",
          "text": [
            "--- 2\n",
            "1\n",
            "2\n",
            "----\n",
            "--- 3\n",
            "1\n",
            "3\n",
            "----\n",
            "--- 4\n",
            "1\n",
            "2\n",
            "4\n",
            "----\n",
            "--- 5\n",
            "1\n",
            "5\n",
            "----\n",
            "--- 6\n",
            "1\n",
            "2\n",
            "3\n",
            "6\n",
            "----\n",
            "--- 7\n",
            "1\n",
            "7\n",
            "----\n",
            "--- 8\n",
            "1\n",
            "2\n",
            "4\n",
            "8\n",
            "----\n",
            "--- 9\n",
            "1\n",
            "3\n",
            "9\n",
            "----\n",
            "--- 10\n",
            "1\n",
            "2\n",
            "5\n",
            "10\n",
            "----\n",
            "--- 11\n",
            "1\n",
            "11\n",
            "----\n",
            "--- 12\n",
            "1\n",
            "2\n",
            "3\n",
            "4\n",
            "6\n",
            "12\n",
            "----\n",
            "--- 13\n",
            "1\n",
            "13\n",
            "----\n",
            "--- 14\n",
            "1\n",
            "2\n",
            "7\n",
            "14\n",
            "----\n",
            "--- 15\n",
            "1\n",
            "3\n",
            "5\n",
            "15\n",
            "----\n",
            "--- 16\n",
            "1\n",
            "2\n",
            "4\n",
            "8\n",
            "16\n",
            "----\n",
            "--- 17\n",
            "1\n",
            "17\n",
            "----\n",
            "--- 18\n",
            "1\n",
            "2\n",
            "3\n",
            "6\n",
            "9\n",
            "18\n",
            "----\n",
            "--- 19\n",
            "1\n",
            "19\n",
            "----\n"
          ]
        }
      ]
    },
    {
      "cell_type": "code",
      "source": [
        "#take a number or check whether a number is prime or not\n",
        "a=0\n",
        "for j in range(3, 41):\n",
        "  for i in range(2, j):\n",
        "    if(j%i==0):\n",
        "      a=1\n",
        "      break\n",
        "if(a==0):\n",
        "  print(i)\n",
        "else:\n",
        "  print(\"not prime\")\n"
      ],
      "metadata": {
        "colab": {
          "base_uri": "https://localhost:8080/"
        },
        "id": "yPiODAEQZHaq",
        "outputId": "11d5d8b2-7481-4eaf-af17-0f11dac4dd9b"
      },
      "execution_count": null,
      "outputs": [
        {
          "output_type": "stream",
          "name": "stdout",
          "text": [
            "not prime\n"
          ]
        }
      ]
    },
    {
      "cell_type": "code",
      "source": [
        "for n in range(3, 41):\n",
        "  a=0\n",
        "  for i in range(2,n):\n",
        "    if(n%i==0):\n",
        "      a=1\n",
        "      break\n",
        "  if(a==0):\n",
        "    print(n, end=\" \")\n",
        "\n"
      ],
      "metadata": {
        "colab": {
          "base_uri": "https://localhost:8080/"
        },
        "id": "FgUd1QasccWM",
        "outputId": "3a7be2d5-cfff-456c-d679-dcb040909cb8"
      },
      "execution_count": null,
      "outputs": [
        {
          "output_type": "stream",
          "name": "stdout",
          "text": [
            "3 5 7 11 13 17 19 23 29 31 37 "
          ]
        }
      ]
    },
    {
      "cell_type": "code",
      "source": [
        "num = 154\n",
        "a=num\n",
        "#1*33+ 5*33+ 3*33\n",
        "total=0\n",
        "while(num>0):\n",
        "  rem=num%10\n",
        "  num=num//10\n",
        "  total=total+rem**3\n",
        "  #print(rem, rem**3, total)\n",
        "\n",
        "if(total==a):\n",
        "  print(\"armstrong number\")\n",
        "else:\n",
        "  print(\"not armstrong\")"
      ],
      "metadata": {
        "id": "B8l3ZbJvjCed",
        "colab": {
          "base_uri": "https://localhost:8080/"
        },
        "outputId": "da16c0cc-c22e-4e97-fa53-785bda1750ec"
      },
      "execution_count": null,
      "outputs": [
        {
          "output_type": "stream",
          "name": "stdout",
          "text": [
            "not armstrong\n"
          ]
        }
      ]
    },
    {
      "cell_type": "code",
      "source": [
        "#print armstrong from 1 to n\n",
        "for num in range(150, 401):\n",
        "  a=num\n",
        "  #1*33+ 5*33+ 3*33\n",
        "  total=0\n",
        "  while(num>0):\n",
        "    rem=num%10\n",
        "    num=num//10\n",
        "    total=total+rem**3\n",
        "    #print(rem, rem**3, total)\n",
        "\n",
        "  if(total==a):\n",
        "    print(\"armstrong number\", a)\n"
      ],
      "metadata": {
        "colab": {
          "base_uri": "https://localhost:8080/"
        },
        "id": "0D0mb87wWu3t",
        "outputId": "8c12cf59-c5bd-4b13-c2be-4249d9166d09"
      },
      "execution_count": null,
      "outputs": [
        {
          "output_type": "stream",
          "name": "stdout",
          "text": [
            "armstrong number 153\n",
            "armstrong number 370\n",
            "armstrong number 371\n"
          ]
        }
      ]
    },
    {
      "cell_type": "code",
      "source": [
        "#patterns\n",
        "for i in range(1, 5):\n",
        "  print(\"...student...\", i)\n",
        "  for j in range(1, 5):\n",
        "    print(\"student\",j, end=\" \")\n",
        "  print(\"\") #to print next student in next line"
      ],
      "metadata": {
        "colab": {
          "base_uri": "https://localhost:8080/"
        },
        "id": "NZp0eSaIZDH2",
        "outputId": "db6f3c96-a0a9-48c2-f221-cca3e932de0a"
      },
      "execution_count": null,
      "outputs": [
        {
          "output_type": "stream",
          "name": "stdout",
          "text": [
            "...student... 1\n",
            "student 1 student 2 student 3 student 4 \n",
            "...student... 2\n",
            "student 1 student 2 student 3 student 4 \n",
            "...student... 3\n",
            "student 1 student 2 student 3 student 4 \n",
            "...student... 4\n",
            "student 1 student 2 student 3 student 4 \n"
          ]
        }
      ]
    },
    {
      "cell_type": "code",
      "source": [
        "#patterns\n",
        "for i in range(1, 5):\n",
        "  for j in range(1, 5):\n",
        "    print(\"*\", end=\" \")\n",
        "  print(\"\") #to change the line"
      ],
      "metadata": {
        "colab": {
          "base_uri": "https://localhost:8080/"
        },
        "id": "UsIMVT5XZ095",
        "outputId": "14f1f331-8e78-4129-bf40-a3e80e9c3e3a"
      },
      "execution_count": null,
      "outputs": [
        {
          "output_type": "stream",
          "name": "stdout",
          "text": [
            "* * * * \n",
            "* * * * \n",
            "* * * * \n",
            "* * * * \n"
          ]
        }
      ]
    },
    {
      "cell_type": "code",
      "source": [
        "#patterns\n",
        "for i in range(1, 5):\n",
        "  for j in range(1, 4):\n",
        "    print(\"*\", end=\" \")\n",
        "  print(\"\")"
      ],
      "metadata": {
        "colab": {
          "base_uri": "https://localhost:8080/"
        },
        "id": "d_al8B2lbYIn",
        "outputId": "0e8043de-d002-427e-d739-626468cdacd7"
      },
      "execution_count": null,
      "outputs": [
        {
          "output_type": "stream",
          "name": "stdout",
          "text": [
            "* * * \n",
            "* * * \n",
            "* * * \n",
            "* * * \n"
          ]
        }
      ]
    },
    {
      "cell_type": "code",
      "source": [
        "#patterns\n",
        "for i in range(1, 4):\n",
        "  for j in range(1, 5):\n",
        "    print(i, end=\" \")\n",
        "  print(\"\")"
      ],
      "metadata": {
        "colab": {
          "base_uri": "https://localhost:8080/"
        },
        "id": "OHkFqZOybuJM",
        "outputId": "67f02e01-b3c4-4b3d-a249-10e147e50f21"
      },
      "execution_count": null,
      "outputs": [
        {
          "output_type": "stream",
          "name": "stdout",
          "text": [
            "1 1 1 1 \n",
            "2 2 2 2 \n",
            "3 3 3 3 \n"
          ]
        }
      ]
    },
    {
      "cell_type": "code",
      "source": [
        "#patterns\n",
        "for i in range(1, 6):\n",
        "  for j in range(1, 5):\n",
        "    print(j, end=\" \")\n",
        "  print(\"\")"
      ],
      "metadata": {
        "colab": {
          "base_uri": "https://localhost:8080/"
        },
        "id": "ih9IHGuIb4Jq",
        "outputId": "8291349d-ae60-493d-b2bc-ead2acea46a3"
      },
      "execution_count": null,
      "outputs": [
        {
          "output_type": "stream",
          "name": "stdout",
          "text": [
            "1 2 3 4 \n",
            "1 2 3 4 \n",
            "1 2 3 4 \n",
            "1 2 3 4 \n",
            "1 2 3 4 \n"
          ]
        }
      ]
    },
    {
      "cell_type": "code",
      "source": [
        "#patterns\n",
        "for i in range(8, 4, -1):\n",
        "  for j in range(1, 5):\n",
        "    print(i, end=\" \")\n",
        "  print(\"\")"
      ],
      "metadata": {
        "colab": {
          "base_uri": "https://localhost:8080/"
        },
        "id": "8NHaP7avb87s",
        "outputId": "f8174c01-a1fa-4178-e1f9-a19a63be9c70"
      },
      "execution_count": null,
      "outputs": [
        {
          "output_type": "stream",
          "name": "stdout",
          "text": [
            "8 8 8 8 \n",
            "7 7 7 7 \n",
            "6 6 6 6 \n",
            "5 5 5 5 \n"
          ]
        }
      ]
    },
    {
      "cell_type": "code",
      "source": [
        "#patterns 4\n",
        "x=1\n",
        "for i in range(1, 4):\n",
        "  for j in range(1, 4,):\n",
        "\n",
        "\n",
        "    print(x, end=\" \")\n",
        "    x+=1\n",
        "\n",
        "  print(\"\")"
      ],
      "metadata": {
        "colab": {
          "base_uri": "https://localhost:8080/"
        },
        "id": "EuUI0kYNcILt",
        "outputId": "ec02fc7d-15fa-4095-c0ef-dc1ff5747052"
      },
      "execution_count": null,
      "outputs": [
        {
          "output_type": "stream",
          "name": "stdout",
          "text": [
            "1 2 3 \n",
            "4 5 6 \n",
            "7 8 9 \n"
          ]
        }
      ]
    },
    {
      "cell_type": "code",
      "source": [
        "#patterns\n",
        "for i in range(1, 3):\n",
        "  for j in range(65, 68):\n",
        "    print(chr(j), end=\" \")\n",
        "  print(\"\")"
      ],
      "metadata": {
        "colab": {
          "base_uri": "https://localhost:8080/"
        },
        "id": "U-PELn8EeRR_",
        "outputId": "9073fc01-a043-4dae-f513-00347de1ad3f"
      },
      "execution_count": null,
      "outputs": [
        {
          "output_type": "stream",
          "name": "stdout",
          "text": [
            "A B C \n",
            "A B C \n"
          ]
        }
      ]
    },
    {
      "cell_type": "code",
      "source": [
        "#patterns\n",
        "for i in range(1, 5):\n",
        "  for j in range(1, i+1):\n",
        "    print(\"*\", end=\" \")\n",
        "  print(\"\") #to change the line"
      ],
      "metadata": {
        "colab": {
          "base_uri": "https://localhost:8080/"
        },
        "id": "wEU7WxELeiip",
        "outputId": "38016249-bd54-42fc-993a-759e9843b25c"
      },
      "execution_count": null,
      "outputs": [
        {
          "output_type": "stream",
          "name": "stdout",
          "text": [
            "* \n",
            "* * \n",
            "* * * \n",
            "* * * * \n"
          ]
        }
      ]
    },
    {
      "cell_type": "code",
      "source": [
        "#patterns\n",
        "x=1\n",
        "for i in range(1, 5):\n",
        "  for j in range(1, i+1):\n",
        "    print(x, end=\" \")\n",
        "    x+=1\n",
        "  print(\"\") #to change the line"
      ],
      "metadata": {
        "colab": {
          "base_uri": "https://localhost:8080/"
        },
        "id": "EWMG4mQyf1em",
        "outputId": "a57b04c1-ffb9-476a-b2f9-ac437f201d5d"
      },
      "execution_count": null,
      "outputs": [
        {
          "output_type": "stream",
          "name": "stdout",
          "text": [
            "1 \n",
            "2 3 \n",
            "4 5 6 \n",
            "7 8 9 10 \n"
          ]
        }
      ]
    },
    {
      "cell_type": "code",
      "source": [
        "#patterns\n",
        "for i in range(8, 4, -1):\n",
        "  for j in range(1, 10-i):\n",
        "    print(i, end=\" \")\n",
        "  print(\"\")"
      ],
      "metadata": {
        "colab": {
          "base_uri": "https://localhost:8080/"
        },
        "id": "UDx5Q1fxgJX5",
        "outputId": "bf765dd1-53bc-469e-a0ac-23525a248663"
      },
      "execution_count": null,
      "outputs": [
        {
          "output_type": "stream",
          "name": "stdout",
          "text": [
            "8 \n",
            "7 7 \n",
            "6 6 6 \n",
            "5 5 5 5 \n"
          ]
        }
      ]
    },
    {
      "cell_type": "code",
      "source": [
        "#patterns\n",
        "for i in range(1, 5):\n",
        "  for j in range(1, i+1):\n",
        "    if(j%2==0):\n",
        "     print(\"0\", end=\"\")\n",
        "    else:\n",
        "      print(\"1\", end=\"\")\n",
        "  print(\"\") #to change the line"
      ],
      "metadata": {
        "colab": {
          "base_uri": "https://localhost:8080/"
        },
        "id": "EL8_Y9vvgbC4",
        "outputId": "d01a4992-3010-4bbf-b793-41da1fc71b78"
      },
      "execution_count": null,
      "outputs": [
        {
          "output_type": "stream",
          "name": "stdout",
          "text": [
            "1\n",
            "10\n",
            "101\n",
            "1010\n"
          ]
        }
      ]
    },
    {
      "cell_type": "code",
      "source": [
        "#patterns\n",
        "for i in range(1, 5):\n",
        "  for j in range(1, i+1):\n",
        "    print(\"*\", end=\" \")\n",
        "  print(\"\") #to change the line"
      ],
      "metadata": {
        "colab": {
          "base_uri": "https://localhost:8080/"
        },
        "id": "9Zj3vpoWhFun",
        "outputId": "b82b030d-effc-4969-93e7-e8e6cef8539a"
      },
      "execution_count": null,
      "outputs": [
        {
          "output_type": "stream",
          "name": "stdout",
          "text": [
            "* \n",
            "* * \n",
            "* * * \n",
            "* * * * \n"
          ]
        }
      ]
    },
    {
      "cell_type": "code",
      "source": [
        "#patterns\n",
        "x=5\n",
        "for i in range(x, 0, -1):\n",
        "  for j in range(1, i+1):\n",
        "    print(\"*\", end=\" \")\n",
        "  print(\"\") #to change the line"
      ],
      "metadata": {
        "colab": {
          "base_uri": "https://localhost:8080/"
        },
        "id": "QF6OU-g9jHSo",
        "outputId": "152d0aab-8bc0-49e7-f928-35d84443eac0"
      },
      "execution_count": null,
      "outputs": [
        {
          "output_type": "stream",
          "name": "stdout",
          "text": [
            "* * * * * \n",
            "* * * * \n",
            "* * * \n",
            "* * \n",
            "* \n"
          ]
        }
      ]
    },
    {
      "cell_type": "code",
      "source": [
        "#patterns\n",
        "for i in range(1, 6):\n",
        "  for j in range(i, 6):\n",
        "    print(\"*\", end=\" \")\n",
        "  print(\"\") #to change the line"
      ],
      "metadata": {
        "colab": {
          "base_uri": "https://localhost:8080/"
        },
        "id": "lcJjXxgXjgEz",
        "outputId": "78b1c143-088d-47d0-e823-fe2f2f3b77af"
      },
      "execution_count": null,
      "outputs": [
        {
          "output_type": "stream",
          "name": "stdout",
          "text": [
            "* * * * * \n",
            "* * * * \n",
            "* * * \n",
            "* * \n",
            "* \n"
          ]
        }
      ]
    },
    {
      "cell_type": "code",
      "source": [
        "#patterns\n",
        "for i in range(1, 5):\n",
        "  for j in range(i, 4):\n",
        "    print(\"-\", end=\" \")\n",
        "  for j in range(1, i+1):\n",
        "    print(\"*\", end=\" \")\n",
        "  print(\"\") #to change the line"
      ],
      "metadata": {
        "colab": {
          "base_uri": "https://localhost:8080/"
        },
        "id": "m3YXynRDju5O",
        "outputId": "61bb9f2d-18b8-414c-9327-e4bead5bb5eb"
      },
      "execution_count": null,
      "outputs": [
        {
          "output_type": "stream",
          "name": "stdout",
          "text": [
            "- - - * \n",
            "- - * * \n",
            "- * * * \n",
            "* * * * \n"
          ]
        }
      ]
    },
    {
      "cell_type": "code",
      "source": [],
      "metadata": {
        "id": "UcSDKgKQkcY4"
      },
      "execution_count": null,
      "outputs": []
    }
  ]
}