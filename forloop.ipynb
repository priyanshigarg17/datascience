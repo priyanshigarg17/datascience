{
  "nbformat": 4,
  "nbformat_minor": 0,
  "metadata": {
    "colab": {
      "provenance": [],
      "authorship_tag": "ABX9TyM+/P3MembW/PEbJXts1IwU",
      "include_colab_link": true
    },
    "kernelspec": {
      "name": "python3",
      "display_name": "Python 3"
    },
    "language_info": {
      "name": "python"
    }
  },
  "cells": [
    {
      "cell_type": "markdown",
      "metadata": {
        "id": "view-in-github",
        "colab_type": "text"
      },
      "source": [
        "<a href=\"https://colab.research.google.com/github/priyanshigarg17/datascience/blob/main/forloop.ipynb\" target=\"_parent\"><img src=\"https://colab.research.google.com/assets/colab-badge.svg\" alt=\"Open In Colab\"/></a>"
      ]
    },
    {
      "cell_type": "code",
      "execution_count": null,
      "metadata": {
        "colab": {
          "base_uri": "https://localhost:8080/"
        },
        "id": "DD0muwnxfId8",
        "outputId": "86fd010a-0ade-4a1d-a963-8b38ff581577"
      },
      "outputs": [
        {
          "output_type": "stream",
          "name": "stdout",
          "text": [
            "enter value: 7\n",
            "1\n",
            "2\n",
            "3\n",
            "4\n",
            "5\n",
            "6\n"
          ]
        }
      ],
      "source": [
        "n=int(input(\"enter value: \"))\n",
        "for i in range(1, n):\n",
        "  print(i)"
      ]
    },
    {
      "cell_type": "code",
      "source": [
        "n=int(input(\"enter value: \"))\n",
        "for i in range(n, 1, -1):\n",
        "  print(i)"
      ],
      "metadata": {
        "colab": {
          "base_uri": "https://localhost:8080/"
        },
        "id": "IE5UqsgofziT",
        "outputId": "0e0cb9d9-ef80-4624-f89d-c017887d815d"
      },
      "execution_count": null,
      "outputs": [
        {
          "output_type": "stream",
          "name": "stdout",
          "text": [
            "enter value: 7\n",
            "7\n",
            "6\n",
            "5\n",
            "4\n",
            "3\n",
            "2\n"
          ]
        }
      ]
    },
    {
      "cell_type": "code",
      "source": [
        "for char in range(ord('a'), ord('z') + 1):\n",
        "  print(chr(char), end=\" \")"
      ],
      "metadata": {
        "colab": {
          "base_uri": "https://localhost:8080/"
        },
        "id": "HgdX0NFtgEZw",
        "outputId": "cf0ee833-8f93-4af7-a2e8-2c870b97f8dd"
      },
      "execution_count": null,
      "outputs": [
        {
          "output_type": "stream",
          "name": "stdout",
          "text": [
            "a b c d e f g h i j k l m n o p q r s t u v w x y z "
          ]
        }
      ]
    },
    {
      "cell_type": "code",
      "source": [
        "for i in range(1, 100):\n",
        "  if(i%2==0):\n",
        "      print(i, end=\" \")\n",
        "\n"
      ],
      "metadata": {
        "colab": {
          "base_uri": "https://localhost:8080/"
        },
        "id": "O-n1tCCYgwLc",
        "outputId": "be91d61f-8144-401d-f442-926fea55bdb6"
      },
      "execution_count": null,
      "outputs": [
        {
          "output_type": "stream",
          "name": "stdout",
          "text": [
            "2 4 6 8 10 12 14 16 18 20 22 24 26 28 30 32 34 36 38 40 42 44 46 48 50 52 54 56 58 60 62 64 66 68 70 72 74 76 78 80 82 84 86 88 90 92 94 96 98 "
          ]
        }
      ]
    },
    {
      "cell_type": "code",
      "source": [
        "n=int(input(\"enter value: \"))\n",
        "sum=0\n",
        "for i in range(1, n):\n",
        "  if(i%2!=0):\n",
        "    sum+=i\n",
        "print(sum)"
      ],
      "metadata": {
        "colab": {
          "base_uri": "https://localhost:8080/"
        },
        "id": "WLXwJV0vhejQ",
        "outputId": "1e696363-acdc-41b0-f930-0c97d262c884"
      },
      "execution_count": null,
      "outputs": [
        {
          "output_type": "stream",
          "name": "stdout",
          "text": [
            "enter value: 6\n",
            "9\n"
          ]
        }
      ]
    },
    {
      "cell_type": "code",
      "source": [
        "n = int(input(\"Enter value: \"))\n",
        "count = 0\n",
        "\n",
        "if n == 0:\n",
        "    count = 1\n",
        "else:\n",
        "    while n > 0: #using while loop\n",
        "        n = n // 10\n",
        "        count += 1\n",
        "\n",
        "print(count)"
      ],
      "metadata": {
        "colab": {
          "base_uri": "https://localhost:8080/"
        },
        "id": "joKp4YSWiA7q",
        "outputId": "a92ba6bd-c02a-4aec-daab-1d4f485be4b6"
      },
      "execution_count": null,
      "outputs": [
        {
          "output_type": "stream",
          "name": "stdout",
          "text": [
            "Enter value: 5677\n",
            "4\n"
          ]
        }
      ]
    },
    {
      "cell_type": "code",
      "source": [
        "n = int(input(\"Enter value: \"))\n",
        "count=0\n",
        "for i in range(1, n):\n",
        "  n=n//10\n",
        "  count += 1\n",
        "  if n==0:\n",
        "    break\n",
        "\n",
        "print(count)"
      ],
      "metadata": {
        "id": "R2SGkCVqiwlW",
        "colab": {
          "base_uri": "https://localhost:8080/"
        },
        "outputId": "e92ce277-a999-459b-ac37-faba17d1128c"
      },
      "execution_count": null,
      "outputs": [
        {
          "output_type": "stream",
          "name": "stdout",
          "text": [
            "Enter value: 89\n",
            "88\n"
          ]
        }
      ]
    },
    {
      "cell_type": "code",
      "source": [
        "n = int(input(\"Enter value: \"))\n",
        "sum = 0\n",
        "for i in range(1, n):\n",
        "  sum = sum + n%10\n",
        "  n=n//10\n",
        "print(sum)"
      ],
      "metadata": {
        "colab": {
          "base_uri": "https://localhost:8080/"
        },
        "id": "TzS2TyBbsQON",
        "outputId": "32d6d8af-9792-4309-de33-57143c32f583"
      },
      "execution_count": null,
      "outputs": [
        {
          "output_type": "stream",
          "name": "stdout",
          "text": [
            "Enter value: 66\n",
            "12\n"
          ]
        }
      ]
    },
    {
      "cell_type": "code",
      "source": [
        "n = int(input(\"Enter value: \"))\n",
        "lastdigit=n%10\n",
        "for i in range(1, n+1):\n",
        "  n=n//10\n",
        "  if n<10:\n",
        "    firstdigit=n\n",
        "    break\n",
        "print(firstdigit)\n",
        "print(lastdigit)"
      ],
      "metadata": {
        "colab": {
          "base_uri": "https://localhost:8080/"
        },
        "id": "dOnUIzSKsiJ_",
        "outputId": "a9cdbc9b-543f-4438-cd73-b363dc9fee27"
      },
      "execution_count": null,
      "outputs": [
        {
          "output_type": "stream",
          "name": "stdout",
          "text": [
            "Enter value: 789\n",
            "7\n",
            "9\n"
          ]
        }
      ]
    },
    {
      "cell_type": "code",
      "source": [
        "n=int(input(\"enter a digit: \"))\n",
        "for i in range(1, n):\n",
        "   reverse=n%10\n",
        "   print(reverse, end=\" \")\n",
        "   n=n//10\n",
        "\n",
        "   if n==0:\n",
        "    break\n",
        "\n",
        "\n"
      ],
      "metadata": {
        "colab": {
          "base_uri": "https://localhost:8080/"
        },
        "id": "W46yQDPmy2jK",
        "outputId": "06f31dd6-e292-43ad-da24-0b53b5c0322e"
      },
      "execution_count": null,
      "outputs": [
        {
          "output_type": "stream",
          "name": "stdout",
          "text": [
            "enter a digit: 86575\n",
            "5 7 5 6 8 "
          ]
        }
      ]
    },
    {
      "cell_type": "code",
      "source": [
        "n = int(input(\"Enter value: \"))\n",
        "lastdigit=n%10\n",
        "sum=0\n",
        "for i in range(1, n+1):\n",
        "  n=n//10\n",
        "  if n<10:\n",
        "    firstdigit=n\n",
        "    break\n",
        "sum=firstdigit+lastdigit\n",
        "print(firstdigit)\n",
        "print(lastdigit)\n",
        "print(sum)"
      ],
      "metadata": {
        "colab": {
          "base_uri": "https://localhost:8080/"
        },
        "id": "8F0mVQ4r_DHM",
        "outputId": "8ba1afc9-68cf-4295-f2a6-acae2ba54a0f"
      },
      "execution_count": null,
      "outputs": [
        {
          "output_type": "stream",
          "name": "stdout",
          "text": [
            "Enter value: 89\n",
            "8\n",
            "9\n",
            "17\n"
          ]
        }
      ]
    },
    {
      "cell_type": "code",
      "source": [
        "n = int(input(\"Enter value: \"))\n",
        "for i in range(1,n+1):\n",
        "  if(n%i==0):\n",
        "    print(i)"
      ],
      "metadata": {
        "colab": {
          "base_uri": "https://localhost:8080/"
        },
        "id": "xei6PoOtCKlL",
        "outputId": "a2a25ee3-7748-4f7c-d1a7-a728000b441a"
      },
      "execution_count": null,
      "outputs": [
        {
          "output_type": "stream",
          "name": "stdout",
          "text": [
            "Enter value: 8\n",
            "1\n",
            "2\n",
            "4\n",
            "8\n"
          ]
        }
      ]
    },
    {
      "cell_type": "code",
      "source": [
        "n = int(input(\"Enter value: \"))\n",
        "y = int(input(\"Enter power: \"))\n",
        "z=1\n",
        "for i in range(y):\n",
        "  z=z*n\n",
        "print(z)\n"
      ],
      "metadata": {
        "colab": {
          "base_uri": "https://localhost:8080/"
        },
        "id": "5i245_mMEN9G",
        "outputId": "ed1f9256-6de8-44c4-8b11-5baaa2cd529e"
      },
      "execution_count": null,
      "outputs": [
        {
          "output_type": "stream",
          "name": "stdout",
          "text": [
            "Enter value: 8\n",
            "Enter power: 2\n",
            "64\n"
          ]
        }
      ]
    },
    {
      "cell_type": "code",
      "source": [
        "n=int(input(\"enter a digit: \"))\n",
        "factorial = 1\n",
        "for i in range(1, n+1):\n",
        "  factorial=i*factorial\n",
        "print(factorial)\n",
        "\n"
      ],
      "metadata": {
        "colab": {
          "base_uri": "https://localhost:8080/"
        },
        "id": "jf2s17rkFtFc",
        "outputId": "d137e688-d52e-4fac-cf48-4fd54659acd4"
      },
      "execution_count": null,
      "outputs": [
        {
          "output_type": "stream",
          "name": "stdout",
          "text": [
            "enter a digit: 5\n",
            "120\n"
          ]
        }
      ]
    },
    {
      "cell_type": "code",
      "source": [
        "a = int(input(\"Enter first number: \"))\n",
        "b = int(input(\"Enter second number: \"))\n",
        "\n",
        "# Loop to find LCM\n",
        "for i in range(2, (a * b) + 1):\n",
        "    if i % a == 0 and i % b == 0:\n",
        "        print(i)"
      ],
      "metadata": {
        "colab": {
          "base_uri": "https://localhost:8080/"
        },
        "id": "QLiceGgyHX_q",
        "outputId": "c4307509-da59-483f-c5b5-209493e486b3"
      },
      "execution_count": null,
      "outputs": [
        {
          "output_type": "stream",
          "name": "stdout",
          "text": [
            "Enter first number: 9\n",
            "Enter second number: 8\n",
            "72\n"
          ]
        }
      ]
    },
    {
      "cell_type": "code",
      "source": [
        "n = int(input(\"Enter value: \"))\n",
        "a=0\n",
        "for i in range(2, n):\n",
        "  if(n%i==0):\n",
        "    a=1\n",
        "    break\n",
        "if(a==0):\n",
        "  print(\"prime\")\n",
        "else:\n",
        "  print('not prime')"
      ],
      "metadata": {
        "colab": {
          "base_uri": "https://localhost:8080/"
        },
        "id": "3-ZGyhYJMjrM",
        "outputId": "b8551615-d584-4da1-970e-bc02a155385c"
      },
      "execution_count": null,
      "outputs": [
        {
          "output_type": "stream",
          "name": "stdout",
          "text": [
            "Enter value: 7\n",
            "prime\n"
          ]
        }
      ]
    },
    {
      "cell_type": "code",
      "source": [
        "#print all the prime numbers from 1 to n - chatgpt used\n",
        "n = int(input(\"Enter value: \"))\n",
        "for num in range(2, n+1):\n",
        "    a = 0\n",
        "    for i in range(2, num):\n",
        "        if num % i == 0:\n",
        "            a = 1\n",
        "            break\n",
        "    if a == 0:\n",
        "        print(num, end=\" \")"
      ],
      "metadata": {
        "colab": {
          "base_uri": "https://localhost:8080/"
        },
        "id": "niF8DXm0lKgL",
        "outputId": "903ab5a9-d4b3-49c8-c342-9a969931b44c"
      },
      "execution_count": null,
      "outputs": [
        {
          "output_type": "stream",
          "name": "stdout",
          "text": [
            "Enter value: 7\n",
            "2 3 5 7 "
          ]
        }
      ]
    },
    {
      "cell_type": "code",
      "source": [
        "#prime factors\n",
        "n = int(input(\"Enter value: \"))\n",
        "for i in range(2, n):\n",
        "  if(n%i==0):\n",
        "    print(i, end=\" \")\n",
        "    n//= i\n",
        "  else:\n",
        "    i+=1\n",
        "\n"
      ],
      "metadata": {
        "colab": {
          "base_uri": "https://localhost:8080/"
        },
        "id": "3zxkA48UohUm",
        "outputId": "e466d87d-4263-4ca7-c58e-acea5d4c4a78"
      },
      "execution_count": null,
      "outputs": [
        {
          "output_type": "stream",
          "name": "stdout",
          "text": [
            "Enter value: 18\n",
            "2 3 "
          ]
        }
      ]
    },
    {
      "cell_type": "code",
      "source": [
        "#armstrong number\n",
        "n= int(input(\"enter number: \"))\n",
        "count=0\n",
        "sum=0\n",
        "for i in range(1, n+1):\n",
        "  n=n//10\n",
        "  count+=1\n",
        "  if n==0:\n",
        "    break\n",
        "\n",
        "for n in range(count)\n",
        "  digit=n%10\n",
        "  sum+=digit**count\n",
        "\n",
        "if(n==sum):\n",
        "  print(\"armstrong number\")\n",
        "else:\n",
        "  print(\"not\")\n",
        "\n"
      ],
      "metadata": {
        "id": "wmIvorRHrzcM",
        "colab": {
          "base_uri": "https://localhost:8080/",
          "height": 106
        },
        "outputId": "d654c133-8905-432a-efd7-48d01a885e23"
      },
      "execution_count": null,
      "outputs": [
        {
          "output_type": "error",
          "ename": "SyntaxError",
          "evalue": "expected ':' (<ipython-input-14-165d06ffbeb7>, line 11)",
          "traceback": [
            "\u001b[0;36m  File \u001b[0;32m\"<ipython-input-14-165d06ffbeb7>\"\u001b[0;36m, line \u001b[0;32m11\u001b[0m\n\u001b[0;31m    for n in range(count)\u001b[0m\n\u001b[0m                         ^\u001b[0m\n\u001b[0;31mSyntaxError\u001b[0m\u001b[0;31m:\u001b[0m expected ':'\n"
          ]
        }
      ]
    },
    {
      "cell_type": "code",
      "source": [
        "#chatgpt code\n",
        "n = int(input(\"Enter a number: \"))\n",
        "original = n\n",
        "count = len(str(n))  # Number of digits\n",
        "sum = 0\n",
        "\n",
        "# Use a single for loop to extract digits and compute sum of powers\n",
        "for i in range(count):\n",
        "    digit = n % 10\n",
        "    sum += digit ** count\n",
        "    n = n // 10\n",
        "\n",
        "if sum == original:\n",
        "    print(\"Armstrong number\")\n",
        "else:\n",
        "    print(\"Not an Armstrong number\")\n"
      ],
      "metadata": {
        "id": "-7UigiV4qcWQ",
        "colab": {
          "base_uri": "https://localhost:8080/"
        },
        "outputId": "2612473c-1c76-4158-8c1d-6f0a0db711a3"
      },
      "execution_count": null,
      "outputs": [
        {
          "output_type": "stream",
          "name": "stdout",
          "text": [
            "Enter a number: 153\n",
            "Armstrong number\n"
          ]
        }
      ]
    },
    {
      "cell_type": "code",
      "source": [
        "n = int(input(\"Enter a number: \"))\n",
        "original = n\n",
        "count = len(str(n))  # Number of digits\n",
        "sum = 0\n",
        "\n",
        "# Use a single for loop to extract digits and compute sum of powers\n",
        "for i in range(count):\n",
        "    digit = n % 10\n",
        "    sum += digit * i\n",
        "    n = n // 10\n",
        "\n",
        "if sum == original:\n",
        "    print(\"factorial number\")\n",
        "else:\n",
        "    print(\"Not an factirial number\")"
      ],
      "metadata": {
        "colab": {
          "base_uri": "https://localhost:8080/"
        },
        "id": "dmLwRLwFE8Q_",
        "outputId": "71196ebe-0585-4117-ec29-15fde9235e0d"
      },
      "execution_count": null,
      "outputs": [
        {
          "output_type": "stream",
          "name": "stdout",
          "text": [
            "Enter a number: 899\n",
            "Not an factirial number\n"
          ]
        }
      ]
    },
    {
      "cell_type": "code",
      "source": [],
      "metadata": {
        "id": "LOS1EUZ0HUPc"
      },
      "execution_count": null,
      "outputs": []
    }
  ]
}